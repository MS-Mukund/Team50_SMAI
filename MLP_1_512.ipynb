{
  "nbformat": 4,
  "nbformat_minor": 0,
  "metadata": {
    "colab": {
      "provenance": [],
      "include_colab_link": true
    },
    "kernelspec": {
      "name": "python3",
      "display_name": "Python 3"
    },
    "language_info": {
      "name": "python"
    },
    "accelerator": "GPU",
    "gpuClass": "standard",
    "widgets": {
      "application/vnd.jupyter.widget-state+json": {
        "03e50392b6e2454392929661b1feee56": {
          "model_module": "@jupyter-widgets/controls",
          "model_name": "HBoxModel",
          "model_module_version": "1.5.0",
          "state": {
            "_dom_classes": [],
            "_model_module": "@jupyter-widgets/controls",
            "_model_module_version": "1.5.0",
            "_model_name": "HBoxModel",
            "_view_count": null,
            "_view_module": "@jupyter-widgets/controls",
            "_view_module_version": "1.5.0",
            "_view_name": "HBoxView",
            "box_style": "",
            "children": [
              "IPY_MODEL_452652adb82441788bd04a30e4452ba2",
              "IPY_MODEL_15f61daeef5a4c69822fad4a6d2d014d",
              "IPY_MODEL_e75f1f664af744659a3fd16b3877d60e"
            ],
            "layout": "IPY_MODEL_e49d410ffd8142738aeb7c67ee59b950"
          }
        },
        "452652adb82441788bd04a30e4452ba2": {
          "model_module": "@jupyter-widgets/controls",
          "model_name": "HTMLModel",
          "model_module_version": "1.5.0",
          "state": {
            "_dom_classes": [],
            "_model_module": "@jupyter-widgets/controls",
            "_model_module_version": "1.5.0",
            "_model_name": "HTMLModel",
            "_view_count": null,
            "_view_module": "@jupyter-widgets/controls",
            "_view_module_version": "1.5.0",
            "_view_name": "HTMLView",
            "description": "",
            "description_tooltip": null,
            "layout": "IPY_MODEL_7541762cbec54c1387cabd8be7a8a2da",
            "placeholder": "​",
            "style": "IPY_MODEL_2da29296c4774baa8ac1919e2e0fffc6",
            "value": "100%"
          }
        },
        "15f61daeef5a4c69822fad4a6d2d014d": {
          "model_module": "@jupyter-widgets/controls",
          "model_name": "FloatProgressModel",
          "model_module_version": "1.5.0",
          "state": {
            "_dom_classes": [],
            "_model_module": "@jupyter-widgets/controls",
            "_model_module_version": "1.5.0",
            "_model_name": "FloatProgressModel",
            "_view_count": null,
            "_view_module": "@jupyter-widgets/controls",
            "_view_module_version": "1.5.0",
            "_view_name": "ProgressView",
            "bar_style": "success",
            "description": "",
            "description_tooltip": null,
            "layout": "IPY_MODEL_39984c5c81774ab88444ca4728a4dbda",
            "max": 170498071,
            "min": 0,
            "orientation": "horizontal",
            "style": "IPY_MODEL_8438660615194b088de155312a936725",
            "value": 170498071
          }
        },
        "e75f1f664af744659a3fd16b3877d60e": {
          "model_module": "@jupyter-widgets/controls",
          "model_name": "HTMLModel",
          "model_module_version": "1.5.0",
          "state": {
            "_dom_classes": [],
            "_model_module": "@jupyter-widgets/controls",
            "_model_module_version": "1.5.0",
            "_model_name": "HTMLModel",
            "_view_count": null,
            "_view_module": "@jupyter-widgets/controls",
            "_view_module_version": "1.5.0",
            "_view_name": "HTMLView",
            "description": "",
            "description_tooltip": null,
            "layout": "IPY_MODEL_72a1354e3c944730a1c00c66adaf7591",
            "placeholder": "​",
            "style": "IPY_MODEL_4ab7fb6269ef429a9c699f76b9c97a17",
            "value": " 170498071/170498071 [00:03&lt;00:00, 62996489.30it/s]"
          }
        },
        "e49d410ffd8142738aeb7c67ee59b950": {
          "model_module": "@jupyter-widgets/base",
          "model_name": "LayoutModel",
          "model_module_version": "1.2.0",
          "state": {
            "_model_module": "@jupyter-widgets/base",
            "_model_module_version": "1.2.0",
            "_model_name": "LayoutModel",
            "_view_count": null,
            "_view_module": "@jupyter-widgets/base",
            "_view_module_version": "1.2.0",
            "_view_name": "LayoutView",
            "align_content": null,
            "align_items": null,
            "align_self": null,
            "border": null,
            "bottom": null,
            "display": null,
            "flex": null,
            "flex_flow": null,
            "grid_area": null,
            "grid_auto_columns": null,
            "grid_auto_flow": null,
            "grid_auto_rows": null,
            "grid_column": null,
            "grid_gap": null,
            "grid_row": null,
            "grid_template_areas": null,
            "grid_template_columns": null,
            "grid_template_rows": null,
            "height": null,
            "justify_content": null,
            "justify_items": null,
            "left": null,
            "margin": null,
            "max_height": null,
            "max_width": null,
            "min_height": null,
            "min_width": null,
            "object_fit": null,
            "object_position": null,
            "order": null,
            "overflow": null,
            "overflow_x": null,
            "overflow_y": null,
            "padding": null,
            "right": null,
            "top": null,
            "visibility": null,
            "width": null
          }
        },
        "7541762cbec54c1387cabd8be7a8a2da": {
          "model_module": "@jupyter-widgets/base",
          "model_name": "LayoutModel",
          "model_module_version": "1.2.0",
          "state": {
            "_model_module": "@jupyter-widgets/base",
            "_model_module_version": "1.2.0",
            "_model_name": "LayoutModel",
            "_view_count": null,
            "_view_module": "@jupyter-widgets/base",
            "_view_module_version": "1.2.0",
            "_view_name": "LayoutView",
            "align_content": null,
            "align_items": null,
            "align_self": null,
            "border": null,
            "bottom": null,
            "display": null,
            "flex": null,
            "flex_flow": null,
            "grid_area": null,
            "grid_auto_columns": null,
            "grid_auto_flow": null,
            "grid_auto_rows": null,
            "grid_column": null,
            "grid_gap": null,
            "grid_row": null,
            "grid_template_areas": null,
            "grid_template_columns": null,
            "grid_template_rows": null,
            "height": null,
            "justify_content": null,
            "justify_items": null,
            "left": null,
            "margin": null,
            "max_height": null,
            "max_width": null,
            "min_height": null,
            "min_width": null,
            "object_fit": null,
            "object_position": null,
            "order": null,
            "overflow": null,
            "overflow_x": null,
            "overflow_y": null,
            "padding": null,
            "right": null,
            "top": null,
            "visibility": null,
            "width": null
          }
        },
        "2da29296c4774baa8ac1919e2e0fffc6": {
          "model_module": "@jupyter-widgets/controls",
          "model_name": "DescriptionStyleModel",
          "model_module_version": "1.5.0",
          "state": {
            "_model_module": "@jupyter-widgets/controls",
            "_model_module_version": "1.5.0",
            "_model_name": "DescriptionStyleModel",
            "_view_count": null,
            "_view_module": "@jupyter-widgets/base",
            "_view_module_version": "1.2.0",
            "_view_name": "StyleView",
            "description_width": ""
          }
        },
        "39984c5c81774ab88444ca4728a4dbda": {
          "model_module": "@jupyter-widgets/base",
          "model_name": "LayoutModel",
          "model_module_version": "1.2.0",
          "state": {
            "_model_module": "@jupyter-widgets/base",
            "_model_module_version": "1.2.0",
            "_model_name": "LayoutModel",
            "_view_count": null,
            "_view_module": "@jupyter-widgets/base",
            "_view_module_version": "1.2.0",
            "_view_name": "LayoutView",
            "align_content": null,
            "align_items": null,
            "align_self": null,
            "border": null,
            "bottom": null,
            "display": null,
            "flex": null,
            "flex_flow": null,
            "grid_area": null,
            "grid_auto_columns": null,
            "grid_auto_flow": null,
            "grid_auto_rows": null,
            "grid_column": null,
            "grid_gap": null,
            "grid_row": null,
            "grid_template_areas": null,
            "grid_template_columns": null,
            "grid_template_rows": null,
            "height": null,
            "justify_content": null,
            "justify_items": null,
            "left": null,
            "margin": null,
            "max_height": null,
            "max_width": null,
            "min_height": null,
            "min_width": null,
            "object_fit": null,
            "object_position": null,
            "order": null,
            "overflow": null,
            "overflow_x": null,
            "overflow_y": null,
            "padding": null,
            "right": null,
            "top": null,
            "visibility": null,
            "width": null
          }
        },
        "8438660615194b088de155312a936725": {
          "model_module": "@jupyter-widgets/controls",
          "model_name": "ProgressStyleModel",
          "model_module_version": "1.5.0",
          "state": {
            "_model_module": "@jupyter-widgets/controls",
            "_model_module_version": "1.5.0",
            "_model_name": "ProgressStyleModel",
            "_view_count": null,
            "_view_module": "@jupyter-widgets/base",
            "_view_module_version": "1.2.0",
            "_view_name": "StyleView",
            "bar_color": null,
            "description_width": ""
          }
        },
        "72a1354e3c944730a1c00c66adaf7591": {
          "model_module": "@jupyter-widgets/base",
          "model_name": "LayoutModel",
          "model_module_version": "1.2.0",
          "state": {
            "_model_module": "@jupyter-widgets/base",
            "_model_module_version": "1.2.0",
            "_model_name": "LayoutModel",
            "_view_count": null,
            "_view_module": "@jupyter-widgets/base",
            "_view_module_version": "1.2.0",
            "_view_name": "LayoutView",
            "align_content": null,
            "align_items": null,
            "align_self": null,
            "border": null,
            "bottom": null,
            "display": null,
            "flex": null,
            "flex_flow": null,
            "grid_area": null,
            "grid_auto_columns": null,
            "grid_auto_flow": null,
            "grid_auto_rows": null,
            "grid_column": null,
            "grid_gap": null,
            "grid_row": null,
            "grid_template_areas": null,
            "grid_template_columns": null,
            "grid_template_rows": null,
            "height": null,
            "justify_content": null,
            "justify_items": null,
            "left": null,
            "margin": null,
            "max_height": null,
            "max_width": null,
            "min_height": null,
            "min_width": null,
            "object_fit": null,
            "object_position": null,
            "order": null,
            "overflow": null,
            "overflow_x": null,
            "overflow_y": null,
            "padding": null,
            "right": null,
            "top": null,
            "visibility": null,
            "width": null
          }
        },
        "4ab7fb6269ef429a9c699f76b9c97a17": {
          "model_module": "@jupyter-widgets/controls",
          "model_name": "DescriptionStyleModel",
          "model_module_version": "1.5.0",
          "state": {
            "_model_module": "@jupyter-widgets/controls",
            "_model_module_version": "1.5.0",
            "_model_name": "DescriptionStyleModel",
            "_view_count": null,
            "_view_module": "@jupyter-widgets/base",
            "_view_module_version": "1.2.0",
            "_view_name": "StyleView",
            "description_width": ""
          }
        }
      }
    }
  },
  "cells": [
    {
      "cell_type": "markdown",
      "metadata": {
        "id": "view-in-github",
        "colab_type": "text"
      },
      "source": [
        "<a href=\"https://colab.research.google.com/github/MS-Mukund/Team50_SMAI/blob/master/MLP_1_512.ipynb\" target=\"_parent\"><img src=\"https://colab.research.google.com/assets/colab-badge.svg\" alt=\"Open In Colab\"/></a>"
      ]
    },
    {
      "cell_type": "code",
      "execution_count": 1,
      "metadata": {
        "id": "ztbWc_Xr3Td4"
      },
      "outputs": [],
      "source": [
        "import torch\n",
        "import numpy as np\n",
        "import pandas as pd\n",
        "import torch.nn as nn\n",
        "import torch.optim as optim\n",
        "import os\n",
        "import matplotlib.pyplot as plt\n",
        "import torch.nn.functional as F\n",
        "%matplotlib inline\n",
        "import random"
      ]
    },
    {
      "cell_type": "code",
      "source": [
        "import torchvision\n",
        "import torchvision.transforms as transforms"
      ],
      "metadata": {
        "id": "ZLxLeR0W3cho"
      },
      "execution_count": 2,
      "outputs": []
    },
    {
      "cell_type": "code",
      "source": [
        "device = torch.device('cuda' if torch.cuda.is_available() else 'cpu')\n",
        "print('Device available now:', device)"
      ],
      "metadata": {
        "id": "OvOcEHcn3dr-",
        "colab": {
          "base_uri": "https://localhost:8080/"
        },
        "outputId": "14b05bd7-ab61-43fe-896b-604a56ccb938"
      },
      "execution_count": 3,
      "outputs": [
        {
          "output_type": "stream",
          "name": "stdout",
          "text": [
            "Device available now: cuda\n"
          ]
        }
      ]
    },
    {
      "cell_type": "code",
      "source": [
        "image_transforms = transforms.Compose(\n",
        "         [transforms.ToTensor(),\n",
        "         transforms.CenterCrop(28),\n",
        "         transforms.Normalize((0.5), (0.5))]\n",
        ")"
      ],
      "metadata": {
        "id": "_3bCw2nA3dy9"
      },
      "execution_count": 4,
      "outputs": []
    },
    {
      "cell_type": "code",
      "source": [
        "batchsize = 256\n",
        "rowsize = 28\n",
        "colsize = 28\n",
        "inchannels = 3\n",
        "kernelsize = 5\n",
        "stride = 1\n",
        "padding = 0\n",
        "poolsize = 3\n",
        "fc_size1 = 384\n",
        "fc_size2 = 192\n",
        "no_classes = 10\n",
        "epochs = 100\n"
      ],
      "metadata": {
        "id": "ItD7pEJ93g3P"
      },
      "execution_count": 5,
      "outputs": []
    },
    {
      "cell_type": "code",
      "source": [
        "train = torchvision.datasets.CIFAR10(root='./', train=True, download=True, transform=image_transforms)\n",
        "test = torchvision.datasets.CIFAR10(root='./', train=False, transform=image_transforms)"
      ],
      "metadata": {
        "id": "b388If7E3idC",
        "colab": {
          "base_uri": "https://localhost:8080/",
          "height": 84,
          "referenced_widgets": [
            "03e50392b6e2454392929661b1feee56",
            "452652adb82441788bd04a30e4452ba2",
            "15f61daeef5a4c69822fad4a6d2d014d",
            "e75f1f664af744659a3fd16b3877d60e",
            "e49d410ffd8142738aeb7c67ee59b950",
            "7541762cbec54c1387cabd8be7a8a2da",
            "2da29296c4774baa8ac1919e2e0fffc6",
            "39984c5c81774ab88444ca4728a4dbda",
            "8438660615194b088de155312a936725",
            "72a1354e3c944730a1c00c66adaf7591",
            "4ab7fb6269ef429a9c699f76b9c97a17"
          ]
        },
        "outputId": "af479726-d635-4ba4-8ba2-630bc52097ed"
      },
      "execution_count": 6,
      "outputs": [
        {
          "output_type": "stream",
          "name": "stdout",
          "text": [
            "Downloading https://www.cs.toronto.edu/~kriz/cifar-10-python.tar.gz to ./cifar-10-python.tar.gz\n"
          ]
        },
        {
          "output_type": "display_data",
          "data": {
            "text/plain": [
              "  0%|          | 0/170498071 [00:00<?, ?it/s]"
            ],
            "application/vnd.jupyter.widget-view+json": {
              "version_major": 2,
              "version_minor": 0,
              "model_id": "03e50392b6e2454392929661b1feee56"
            }
          },
          "metadata": {}
        },
        {
          "output_type": "stream",
          "name": "stdout",
          "text": [
            "Extracting ./cifar-10-python.tar.gz to ./\n"
          ]
        }
      ]
    },
    {
      "cell_type": "code",
      "source": [
        "traindata = torch.utils.data.DataLoader(train,batch_size=batchsize, shuffle=True, num_workers=2,pin_memory=True)\n",
        "testdata = torch.utils.data.DataLoader(test,batch_size=batchsize, shuffle=False, num_workers=2,pin_memory=True)"
      ],
      "metadata": {
        "id": "dtExNK1h3j-x"
      },
      "execution_count": 7,
      "outputs": []
    },
    {
      "cell_type": "code",
      "source": [
        "class SimpleAlex(nn.Module):\n",
        "  def __init__(self,inchannels,kernelsize,stride,padding,poolsize,fc_size1,fc_size2,no_classes):\n",
        "    super(SimpleAlex, self).__init__()\n",
        "    self.conv1 = nn.Conv2d(inchannels,24,kernelsize,stride,padding)\n",
        "    self.pool1 = nn.MaxPool2d(poolsize,2)\n",
        "    self.BatchNorm1 = nn.BatchNorm2d(24)\n",
        "    self.conv2 = nn.Conv2d(24,48,kernelsize,stride,padding)\n",
        "    self.pool2 = nn.MaxPool2d(poolsize,2)\n",
        "    self.BatchNorm2 = nn.BatchNorm2d(48)\n",
        "    self.fc1 = nn.Linear(432,fc_size1)\n",
        "    self.fc2 = nn.Linear(fc_size1,fc_size2)\n",
        "    self.fc3 = nn.Linear(fc_size2,no_classes) \n",
        "\n",
        "  def forward(self, x):\n",
        "    x = F.relu(self.conv1(x))\n",
        "    x = self.pool1(x)\n",
        "    x = self.BatchNorm1(x)\n",
        "    x = F.relu(self.conv2(x))\n",
        "    x = self.pool2(x)\n",
        "    x = self.BatchNorm2(x)\n",
        "    x = torch.flatten(x,1)\n",
        "    x = F.relu(self.fc1(x))\n",
        "    x = F.relu(self.fc2(x))\n",
        "    x = F.relu(self.fc3(x))\n",
        "    return x\n",
        "\n",
        "# class SimpleAlex(nn.Module):\n",
        "#     def __init__(self, num_classes):\n",
        "#         super(SimpleAlex, self).__init__()\n",
        "#         self.conv_layer1 = nn.Conv2d(in_channels=3, out_channels=32, kernel_size=3)\n",
        "#         self.conv_layer2 = nn.Conv2d(in_channels=32, out_channels=32, kernel_size=3)\n",
        "#         self.max_pool1 = nn.MaxPool2d(kernel_size = 2, stride = 2)\n",
        "        \n",
        "#         self.conv_layer3 = nn.Conv2d(in_channels=32, out_channels=64, kernel_size=3)\n",
        "#         self.conv_layer4 = nn.Conv2d(in_channels=64, out_channels=64, kernel_size=3)\n",
        "#         self.max_pool2 = nn.MaxPool2d(kernel_size = 2, stride = 2)\n",
        "        \n",
        "#         self.fc1 = nn.Linear(1600, 128)\n",
        "#         self.relu1 = nn.ReLU()\n",
        "#         self.fc2 = nn.Linear(128, num_classes)\n",
        "#     def forward(self, x):\n",
        "#         out = self.conv_layer1(x)\n",
        "#         out = self.conv_layer2(out)\n",
        "#         out = self.max_pool1(out)\n",
        "        \n",
        "#         out = self.conv_layer3(out)\n",
        "#         out = self.conv_layer4(out)\n",
        "#         out = self.max_pool2(out)\n",
        "                \n",
        "#         out = out.reshape(out.size(0), -1)\n",
        "        \n",
        "#         out = self.fc1(out)\n",
        "#         out = self.relu1(out)\n",
        "#         out = self.fc2(out)\n",
        "#         return out"
      ],
      "metadata": {
        "id": "8BR7zq-n3lK7"
      },
      "execution_count": 8,
      "outputs": []
    },
    {
      "cell_type": "code",
      "source": [
        "model = SimpleAlex(inchannels,kernelsize,stride,padding,poolsize,fc_size1,fc_size2,no_classes).to(device)\n",
        "# model = SimpleAlex(no_classes).to(device)"
      ],
      "metadata": {
        "id": "I0y22U9Z3msK"
      },
      "execution_count": 9,
      "outputs": []
    },
    {
      "cell_type": "markdown",
      "source": [],
      "metadata": {
        "id": "dxXNKMGO8R1G"
      }
    },
    {
      "cell_type": "code",
      "source": [
        "optimizer = torch.optim.SGD(model.parameters(),lr=0.01, weight_decay = 0.1, momentum = 0.9)\n",
        "criterion = nn.CrossEntropyLoss().to(device)"
      ],
      "metadata": {
        "id": "BKkMAMvB3oJT"
      },
      "execution_count": 10,
      "outputs": []
    },
    {
      "cell_type": "code",
      "source": [
        "Acc, loss_a = [], []\n",
        "for i in range(epochs):\n",
        "  Loss = 0\n",
        "  num_correct=0\n",
        "  tot = 0\n",
        "  for i,data in enumerate(traindata):\n",
        "    # iterating through every batch\n",
        "    x_data = data[0].to(device)\n",
        "    labels = data[1].to(device)\n",
        "    optimizer.zero_grad()\n",
        "    outputs = model(x_data)\n",
        "    # pred[i] = outputs.argmax(dim=1)\n",
        "    # act[i] = labels.argmax(dim=1)\n",
        "    _, pred = torch.max(outputs.data, 1)\n",
        "    num_correct += (pred == labels).sum().item()\n",
        "    tot += labels.size(0)\n",
        "    loss = criterion(outputs, labels)\n",
        "    loss.backward()\n",
        "    optimizer.step()\n",
        "    Loss += loss\n",
        "  Acc.append(num_correct/tot)\n",
        "  loss_a.append(Loss)\n",
        "\n",
        "plt.plot([i+1 for i in range(epochs)], Acc)\n",
        "plt.xlabel('epochs')\n",
        "plt.ylabel('accuracy')\n",
        "plt.show()\n",
        "    "
      ],
      "metadata": {
        "id": "UHKQ6cAd3p9l",
        "colab": {
          "base_uri": "https://localhost:8080/"
        },
        "outputId": "0b4ee993-9b92-4cc7-9913-b1f410bfd61c"
      },
      "execution_count": 11,
      "outputs": [
        {
          "output_type": "stream",
          "name": "stdout",
          "text": [
            "Accuracy :  0.20202\n",
            "Loss :  tensor(2.0856, device='cuda:0', grad_fn=<NllLossBackward0>)\n",
            "Accuracy :  0.18016\n",
            "Loss :  tensor(2.1032, device='cuda:0', grad_fn=<NllLossBackward0>)\n",
            "Accuracy :  0.18124\n",
            "Loss :  tensor(2.1621, device='cuda:0', grad_fn=<NllLossBackward0>)\n",
            "Accuracy :  0.18152\n",
            "Loss :  tensor(2.1005, device='cuda:0', grad_fn=<NllLossBackward0>)\n",
            "Accuracy :  0.17904\n",
            "Loss :  tensor(2.1370, device='cuda:0', grad_fn=<NllLossBackward0>)\n",
            "Accuracy :  0.18108\n",
            "Loss :  tensor(2.1186, device='cuda:0', grad_fn=<NllLossBackward0>)\n",
            "Accuracy :  0.17902\n",
            "Loss :  tensor(2.0878, device='cuda:0', grad_fn=<NllLossBackward0>)\n",
            "Accuracy :  0.18144\n",
            "Loss :  tensor(2.1155, device='cuda:0', grad_fn=<NllLossBackward0>)\n",
            "Accuracy :  0.18032\n",
            "Loss :  tensor(2.1000, device='cuda:0', grad_fn=<NllLossBackward0>)\n",
            "Accuracy :  0.18076\n",
            "Loss :  tensor(2.1221, device='cuda:0', grad_fn=<NllLossBackward0>)\n",
            "Accuracy :  0.18356\n",
            "Loss :  tensor(2.0984, device='cuda:0', grad_fn=<NllLossBackward0>)\n",
            "Accuracy :  0.1813\n",
            "Loss :  tensor(2.0823, device='cuda:0', grad_fn=<NllLossBackward0>)\n",
            "Accuracy :  0.17942\n",
            "Loss :  tensor(2.1494, device='cuda:0', grad_fn=<NllLossBackward0>)\n",
            "Accuracy :  0.17912\n",
            "Loss :  tensor(2.1039, device='cuda:0', grad_fn=<NllLossBackward0>)\n",
            "Accuracy :  0.17866\n",
            "Loss :  tensor(2.0880, device='cuda:0', grad_fn=<NllLossBackward0>)\n",
            "Accuracy :  0.17912\n",
            "Loss :  tensor(2.0928, device='cuda:0', grad_fn=<NllLossBackward0>)\n",
            "Accuracy :  0.1803\n",
            "Loss :  tensor(2.1154, device='cuda:0', grad_fn=<NllLossBackward0>)\n",
            "Accuracy :  0.17974\n",
            "Loss :  tensor(2.1314, device='cuda:0', grad_fn=<NllLossBackward0>)\n",
            "Accuracy :  0.18196\n",
            "Loss :  tensor(2.1168, device='cuda:0', grad_fn=<NllLossBackward0>)\n",
            "Accuracy :  0.17972\n",
            "Loss :  tensor(2.1403, device='cuda:0', grad_fn=<NllLossBackward0>)\n",
            "Accuracy :  0.18092\n",
            "Loss :  tensor(2.1609, device='cuda:0', grad_fn=<NllLossBackward0>)\n",
            "Accuracy :  0.18042\n",
            "Loss :  tensor(2.1621, device='cuda:0', grad_fn=<NllLossBackward0>)\n",
            "Accuracy :  0.18176\n",
            "Loss :  tensor(2.0610, device='cuda:0', grad_fn=<NllLossBackward0>)\n",
            "Accuracy :  0.18006\n",
            "Loss :  tensor(2.1254, device='cuda:0', grad_fn=<NllLossBackward0>)\n",
            "Accuracy :  0.17808\n",
            "Loss :  tensor(2.1375, device='cuda:0', grad_fn=<NllLossBackward0>)\n",
            "Accuracy :  0.17902\n",
            "Loss :  tensor(2.1414, device='cuda:0', grad_fn=<NllLossBackward0>)\n",
            "Accuracy :  0.1816\n",
            "Loss :  tensor(2.1455, device='cuda:0', grad_fn=<NllLossBackward0>)\n",
            "Accuracy :  0.18166\n",
            "Loss :  tensor(2.1689, device='cuda:0', grad_fn=<NllLossBackward0>)\n",
            "Accuracy :  0.18022\n",
            "Loss :  tensor(2.0983, device='cuda:0', grad_fn=<NllLossBackward0>)\n",
            "Accuracy :  0.17884\n",
            "Loss :  tensor(2.1474, device='cuda:0', grad_fn=<NllLossBackward0>)\n",
            "Accuracy :  0.17906\n",
            "Loss :  tensor(2.1141, device='cuda:0', grad_fn=<NllLossBackward0>)\n",
            "Accuracy :  0.17774\n",
            "Loss :  tensor(2.0906, device='cuda:0', grad_fn=<NllLossBackward0>)\n",
            "Accuracy :  0.17932\n",
            "Loss :  tensor(2.0793, device='cuda:0', grad_fn=<NllLossBackward0>)\n",
            "Accuracy :  0.18092\n",
            "Loss :  tensor(2.1468, device='cuda:0', grad_fn=<NllLossBackward0>)\n",
            "Accuracy :  0.17832\n",
            "Loss :  tensor(2.1105, device='cuda:0', grad_fn=<NllLossBackward0>)\n",
            "Accuracy :  0.1788\n",
            "Loss :  tensor(2.1753, device='cuda:0', grad_fn=<NllLossBackward0>)\n",
            "Accuracy :  0.17962\n",
            "Loss :  tensor(2.0654, device='cuda:0', grad_fn=<NllLossBackward0>)\n",
            "Accuracy :  0.1799\n",
            "Loss :  tensor(2.0598, device='cuda:0', grad_fn=<NllLossBackward0>)\n",
            "Accuracy :  0.17936\n",
            "Loss :  tensor(2.1224, device='cuda:0', grad_fn=<NllLossBackward0>)\n",
            "Accuracy :  0.18\n",
            "Loss :  tensor(2.1202, device='cuda:0', grad_fn=<NllLossBackward0>)\n",
            "Accuracy :  0.18292\n",
            "Loss :  tensor(2.1168, device='cuda:0', grad_fn=<NllLossBackward0>)\n",
            "Accuracy :  0.18018\n",
            "Loss :  tensor(2.0935, device='cuda:0', grad_fn=<NllLossBackward0>)\n",
            "Accuracy :  0.17896\n",
            "Loss :  tensor(2.1609, device='cuda:0', grad_fn=<NllLossBackward0>)\n",
            "Accuracy :  0.1796\n",
            "Loss :  tensor(2.1466, device='cuda:0', grad_fn=<NllLossBackward0>)\n",
            "Accuracy :  0.17854\n",
            "Loss :  tensor(2.1044, device='cuda:0', grad_fn=<NllLossBackward0>)\n",
            "Accuracy :  0.17792\n",
            "Loss :  tensor(2.1330, device='cuda:0', grad_fn=<NllLossBackward0>)\n",
            "Accuracy :  0.18122\n",
            "Loss :  tensor(2.1894, device='cuda:0', grad_fn=<NllLossBackward0>)\n",
            "Accuracy :  0.1818\n",
            "Loss :  tensor(2.0936, device='cuda:0', grad_fn=<NllLossBackward0>)\n",
            "Accuracy :  0.17884\n",
            "Loss :  tensor(2.1381, device='cuda:0', grad_fn=<NllLossBackward0>)\n",
            "Accuracy :  0.1792\n",
            "Loss :  tensor(2.1427, device='cuda:0', grad_fn=<NllLossBackward0>)\n",
            "Accuracy :  0.18074\n",
            "Loss :  tensor(2.1431, device='cuda:0', grad_fn=<NllLossBackward0>)\n",
            "Accuracy :  0.17912\n",
            "Loss :  tensor(2.1162, device='cuda:0', grad_fn=<NllLossBackward0>)\n",
            "Accuracy :  0.17884\n",
            "Loss :  tensor(2.0578, device='cuda:0', grad_fn=<NllLossBackward0>)\n",
            "Accuracy :  0.18064\n",
            "Loss :  tensor(2.1867, device='cuda:0', grad_fn=<NllLossBackward0>)\n",
            "Accuracy :  0.18008\n",
            "Loss :  tensor(2.1311, device='cuda:0', grad_fn=<NllLossBackward0>)\n",
            "Accuracy :  0.18082\n",
            "Loss :  tensor(2.1467, device='cuda:0', grad_fn=<NllLossBackward0>)\n",
            "Accuracy :  0.17782\n",
            "Loss :  tensor(2.1286, device='cuda:0', grad_fn=<NllLossBackward0>)\n",
            "Accuracy :  0.17778\n",
            "Loss :  tensor(2.1608, device='cuda:0', grad_fn=<NllLossBackward0>)\n",
            "Accuracy :  0.18\n",
            "Loss :  tensor(2.1335, device='cuda:0', grad_fn=<NllLossBackward0>)\n",
            "Accuracy :  0.18008\n",
            "Loss :  tensor(2.1527, device='cuda:0', grad_fn=<NllLossBackward0>)\n",
            "Accuracy :  0.181\n",
            "Loss :  tensor(2.1672, device='cuda:0', grad_fn=<NllLossBackward0>)\n",
            "Accuracy :  0.1797\n",
            "Loss :  tensor(2.1075, device='cuda:0', grad_fn=<NllLossBackward0>)\n",
            "Accuracy :  0.17808\n",
            "Loss :  tensor(2.1203, device='cuda:0', grad_fn=<NllLossBackward0>)\n",
            "Accuracy :  0.18008\n",
            "Loss :  tensor(2.0844, device='cuda:0', grad_fn=<NllLossBackward0>)\n",
            "Accuracy :  0.17946\n",
            "Loss :  tensor(2.1271, device='cuda:0', grad_fn=<NllLossBackward0>)\n",
            "Accuracy :  0.1794\n",
            "Loss :  tensor(2.1997, device='cuda:0', grad_fn=<NllLossBackward0>)\n",
            "Accuracy :  0.1806\n",
            "Loss :  tensor(2.0895, device='cuda:0', grad_fn=<NllLossBackward0>)\n",
            "Accuracy :  0.1794\n",
            "Loss :  tensor(2.1613, device='cuda:0', grad_fn=<NllLossBackward0>)\n",
            "Accuracy :  0.18242\n",
            "Loss :  tensor(2.1220, device='cuda:0', grad_fn=<NllLossBackward0>)\n",
            "Accuracy :  0.1815\n",
            "Loss :  tensor(2.1119, device='cuda:0', grad_fn=<NllLossBackward0>)\n",
            "Accuracy :  0.18162\n",
            "Loss :  tensor(2.1391, device='cuda:0', grad_fn=<NllLossBackward0>)\n",
            "Accuracy :  0.18072\n",
            "Loss :  tensor(2.0699, device='cuda:0', grad_fn=<NllLossBackward0>)\n",
            "Accuracy :  0.18226\n",
            "Loss :  tensor(2.1187, device='cuda:0', grad_fn=<NllLossBackward0>)\n",
            "Accuracy :  0.18078\n",
            "Loss :  tensor(2.0933, device='cuda:0', grad_fn=<NllLossBackward0>)\n",
            "Accuracy :  0.17912\n",
            "Loss :  tensor(2.1098, device='cuda:0', grad_fn=<NllLossBackward0>)\n",
            "Accuracy :  0.1804\n",
            "Loss :  tensor(2.0981, device='cuda:0', grad_fn=<NllLossBackward0>)\n",
            "Accuracy :  0.17944\n",
            "Loss :  tensor(2.1245, device='cuda:0', grad_fn=<NllLossBackward0>)\n",
            "Accuracy :  0.18024\n",
            "Loss :  tensor(2.0655, device='cuda:0', grad_fn=<NllLossBackward0>)\n",
            "Accuracy :  0.17764\n",
            "Loss :  tensor(2.0701, device='cuda:0', grad_fn=<NllLossBackward0>)\n",
            "Accuracy :  0.17936\n",
            "Loss :  tensor(2.1166, device='cuda:0', grad_fn=<NllLossBackward0>)\n",
            "Accuracy :  0.1788\n",
            "Loss :  tensor(2.1046, device='cuda:0', grad_fn=<NllLossBackward0>)\n",
            "Accuracy :  0.17984\n",
            "Loss :  tensor(2.1421, device='cuda:0', grad_fn=<NllLossBackward0>)\n",
            "Accuracy :  0.1819\n",
            "Loss :  tensor(2.1754, device='cuda:0', grad_fn=<NllLossBackward0>)\n",
            "Accuracy :  0.17834\n",
            "Loss :  tensor(2.1219, device='cuda:0', grad_fn=<NllLossBackward0>)\n",
            "Accuracy :  0.18102\n",
            "Loss :  tensor(2.1693, device='cuda:0', grad_fn=<NllLossBackward0>)\n",
            "Accuracy :  0.1792\n",
            "Loss :  tensor(2.1438, device='cuda:0', grad_fn=<NllLossBackward0>)\n",
            "Accuracy :  0.1806\n",
            "Loss :  tensor(2.1241, device='cuda:0', grad_fn=<NllLossBackward0>)\n",
            "Accuracy :  0.18006\n",
            "Loss :  tensor(2.1650, device='cuda:0', grad_fn=<NllLossBackward0>)\n",
            "Accuracy :  0.18012\n",
            "Loss :  tensor(2.1165, device='cuda:0', grad_fn=<NllLossBackward0>)\n",
            "Accuracy :  0.18118\n",
            "Loss :  tensor(2.1104, device='cuda:0', grad_fn=<NllLossBackward0>)\n",
            "Accuracy :  0.17764\n",
            "Loss :  tensor(2.1450, device='cuda:0', grad_fn=<NllLossBackward0>)\n",
            "Accuracy :  0.18146\n",
            "Loss :  tensor(2.0888, device='cuda:0', grad_fn=<NllLossBackward0>)\n",
            "Accuracy :  0.17984\n",
            "Loss :  tensor(2.1204, device='cuda:0', grad_fn=<NllLossBackward0>)\n",
            "Accuracy :  0.17912\n",
            "Loss :  tensor(2.0414, device='cuda:0', grad_fn=<NllLossBackward0>)\n",
            "Accuracy :  0.17874\n",
            "Loss :  tensor(2.0874, device='cuda:0', grad_fn=<NllLossBackward0>)\n",
            "Accuracy :  0.17988\n",
            "Loss :  tensor(2.1301, device='cuda:0', grad_fn=<NllLossBackward0>)\n",
            "Accuracy :  0.18004\n",
            "Loss :  tensor(2.1219, device='cuda:0', grad_fn=<NllLossBackward0>)\n",
            "Accuracy :  0.18064\n",
            "Loss :  tensor(2.1202, device='cuda:0', grad_fn=<NllLossBackward0>)\n",
            "Accuracy :  0.18278\n",
            "Loss :  tensor(2.1214, device='cuda:0', grad_fn=<NllLossBackward0>)\n",
            "Accuracy :  0.1794\n",
            "Loss :  tensor(2.0825, device='cuda:0', grad_fn=<NllLossBackward0>)\n"
          ]
        }
      ]
    },
    {
      "cell_type": "code",
      "source": [
        "with torch.no_grad():\n",
        "    correct = 0\n",
        "    total = 0\n",
        "    for images, labels in testdata:\n",
        "        images = images.to(device)\n",
        "        labels = labels.to(device)\n",
        "        outputs = model(images)\n",
        "        _, predicted = torch.max(outputs.data, 1)\n",
        "        total += labels.size(0)\n",
        "        correct += (predicted == labels).sum().item()\n",
        "    \n",
        "    print(\"Accuracy of the on test images : \",100 * correct / total)\n",
        "\n"
      ],
      "metadata": {
        "id": "ae4Llt2ZLDlQ",
        "colab": {
          "base_uri": "https://localhost:8080/"
        },
        "outputId": "789d0666-8657-4f5b-e833-2d049ebc958d"
      },
      "execution_count": 12,
      "outputs": [
        {
          "output_type": "stream",
          "name": "stdout",
          "text": [
            "Accuracy of the on test images :  18.21\n"
          ]
        }
      ]
    }
  ]
}