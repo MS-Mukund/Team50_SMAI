{
  "cells": [
    {
      "cell_type": "code",
      "execution_count": null,
      "metadata": {
        "colab": {
          "base_uri": "https://localhost:8080/"
        },
        "id": "4qJznXcoFmGR",
        "outputId": "7b765a5e-63d2-4896-a0ce-c5b0d0e7079a"
      },
      "outputs": [
        {
          "output_type": "stream",
          "name": "stdout",
          "text": [
            "Device available now: cuda\n",
            "Files already downloaded and verified\n"
          ]
        },
        {
          "output_type": "stream",
          "name": "stderr",
          "text": [
            "/usr/local/lib/python3.8/dist-packages/torchvision/models/_utils.py:208: UserWarning: The parameter 'pretrained' is deprecated since 0.13 and will be removed in 0.15, please use 'weights' instead.\n",
            "  warnings.warn(\n",
            "/usr/local/lib/python3.8/dist-packages/torchvision/models/_utils.py:223: UserWarning: Arguments other than a weight enum or `None` for 'weights' are deprecated since 0.13 and will be removed in 0.15. The current behavior is equivalent to passing `weights=Inception_V3_Weights.IMAGENET1K_V1`. You can also use `weights=Inception_V3_Weights.DEFAULT` to get the most up-to-date weights.\n",
            "  warnings.warn(msg)\n"
          ]
        }
      ],
      "source": [
        "import torch\n",
        "import numpy as np\n",
        "import pandas as pd\n",
        "import torch.nn as nn\n",
        "import torch.optim as optim\n",
        "import os\n",
        "import matplotlib.pyplot as plt\n",
        "import torch.nn.functional as F\n",
        "%matplotlib inline\n",
        "import random\n",
        "import torchvision\n",
        "import torchvision.transforms as transforms\n",
        "import numpy as np\n",
        "from torchvision import models\n",
        "import matplotlib.pyplot as plt\n",
        "batchsize = 256\n",
        "rowsize = 28\n",
        "colsize = 28\n",
        "inchannels = 3\n",
        "kernelsize = 5\n",
        "stride = 1\n",
        "padding = 0\n",
        "poolsize = 3\n",
        "fc_size1 = 384\n",
        "fc_size2 = 192\n",
        "no_classes = 10\n",
        "\n",
        "device = torch.device('cuda' if torch.cuda.is_available() else 'cpu')\n",
        "print('Device available now:', device)\n",
        "\n",
        "image_transforms = transforms.Compose([\n",
        "    transforms.Resize(299),\n",
        "    transforms.CenterCrop(299),\n",
        "    transforms.ToTensor(),\n",
        "    transforms.Normalize(mean=[0.485, 0.456, 0.406], std=[0.229, 0.224, 0.225]),\n",
        "])\n",
        "train = torchvision.datasets.CIFAR10(root='./', train=True, download=True, transform=image_transforms)\n",
        "test = torchvision.datasets.CIFAR10(root='./', train=False, transform=image_transforms)\n",
        "\n",
        "listsubtrain = list(range(0, len(train), 500))\n",
        "\n",
        "listest = list(range(1, len(test), 20))\n",
        "trainset_1 = torch.utils.data.Subset(train, listsubtrain)\n",
        "trainset_2 = torch.utils.data.Subset(test, listest)\n",
        "\n",
        "\n",
        "\n",
        "traindata = torch.utils.data.DataLoader(trainset_1,batch_size=20, shuffle=True, num_workers=2,pin_memory=True)\n",
        "\n",
        "testdata = torch.utils.data.DataLoader(trainset_2,batch_size=5, shuffle=False, num_workers=2,pin_memory=True)\n",
        "\n",
        "transform_inception = transforms.Resize((299,299))\n",
        "\n",
        "\n",
        "model = models.inception_v3(pretrained=True)\n",
        "model.aux_logits = False\n",
        "if torch.cuda.is_available():\n",
        "    model.cuda()\n",
        "optimizer = torch.optim.SGD(model.parameters(),lr=0.01, weight_decay = 0.005, momentum = 0.9)\n",
        "criterion = nn.CrossEntropyLoss().to(device)\n",
        "def train_test(epochs):\n",
        " list_acc = 0\n",
        " for i in range(epochs):\n",
        "  Loss = 0\n",
        "  num_correct=0\n",
        "  tot = 0\n",
        "  model.train()\n",
        "  for i,data in enumerate(traindata):\n",
        "    # iterating through every batch\n",
        "    x_data = data[0].to(device)\n",
        "    labels = data[1].to(device)\n",
        "    optimizer.zero_grad()\n",
        "    outputs = model(x_data)\n",
        "    # pred[i] = outputs.argmax(dim=1)\n",
        "    # act[i] = labels.argmax(dim=1)\n",
        "    _, pred = torch.max(outputs.data, 1)\n",
        "    num_correct += (pred == labels).sum().item()\n",
        "    tot += labels.size(0)\n",
        "    loss = criterion(outputs, labels)\n",
        "    loss.backward()\n",
        "    optimizer.step()\n",
        "    Loss += loss\n",
        "    #print(loss)\n",
        "  list_acc += num_correct/tot\n",
        "  #print(list_acc)\n",
        "\n",
        " num_correct = 0\n",
        " tot = 0\n",
        " for i,data in enumerate(testdata):\n",
        "    x_data = data[0].to(device)\n",
        "    labels = data[1].to(device)\n",
        "    outputs = model(x_data)\n",
        "   \n",
        "    _, pred = torch.max(outputs.data, 1)\n",
        "    num_correct += (pred == labels).sum().item()\n",
        "    tot += labels.size(0)\n",
        " return (num_correct)/tot , list_acc/epochs"
      ]
    },
    {
      "cell_type": "code",
      "execution_count": null,
      "metadata": {
        "id": "O7h9F3AYWlf7",
        "colab": {
          "base_uri": "https://localhost:8080/"
        },
        "outputId": "055e324c-40b3-4e14-b177-6bc37762b5e2"
      },
      "outputs": [
        {
          "output_type": "stream",
          "name": "stdout",
          "text": [
            "0.202 0.05\n",
            "0.3072 0.56\n",
            "0.3236 0.8833333333333334\n",
            "0.3068 0.9550000000000001\n",
            "0.3356 0.9339999999999999\n",
            "0.3436 0.96\n",
            "0.3228 0.9785714285714285\n",
            "0.3436 0.99375\n",
            "0.3564 0.9966666666666667\n",
            "0.3728 0.999\n",
            "0.3868 1.0\n",
            "0.382 1.0\n",
            "0.3764 1.0\n",
            "0.3784 1.0\n",
            "0.3844 1.0\n",
            "0.3872 1.0\n",
            "0.3944 1.0\n",
            "0.3924 1.0\n",
            "0.3948 1.0\n",
            "0.3852 1.0\n",
            "0.4008 1.0\n",
            "0.39 1.0\n",
            "0.4016 1.0\n",
            "0.3928 1.0\n",
            "0.4096 1.0\n",
            "0.4044 1.0\n",
            "0.2984 0.9299999999999999\n",
            "0.3092 0.9821428571428571\n",
            "0.3632 0.9986206896551725\n",
            "0.3488 0.9996666666666666\n"
          ]
        }
      ],
      "source": [
        "\n",
        "list_x = [i+1 for i in range(30)]\n",
        "list_test = []\n",
        "list_train = []\n",
        "for i in list_x:\n",
        "  a,b = train_test(i)\n",
        "  print(a,b)\n",
        "  list_test.append(a)\n",
        "  list_train.append(b)\n",
        "\n"
      ]
    },
    {
      "cell_type": "code",
      "source": [
        "plt.plot(list_x,list_test,color = 'blue')\n",
        "\n",
        "plt.plot(list_x,list_train,color = 'green')\n",
        "\n",
        "plt.show()"
      ],
      "metadata": {
        "colab": {
          "base_uri": "https://localhost:8080/",
          "height": 265
        },
        "id": "T3GEKIjLH11o",
        "outputId": "ccf64c27-f57c-4a52-9d3e-3325984753fb"
      },
      "execution_count": null,
      "outputs": [
        {
          "output_type": "display_data",
          "data": {
            "text/plain": [
              "<Figure size 432x288 with 1 Axes>"
            ],
            "image/png": "[encoded data removed]"
          },
          "metadata": {
            "needs_background": "light"
          }
        }
      ]
    },
    {
      "cell_type": "code",
      "source": [
        "import torch\n",
        "import numpy as np\n",
        "import pandas as pd\n",
        "import torch.nn as nn\n",
        "import torch.optim as optim\n",
        "import os\n",
        "import matplotlib.pyplot as plt\n",
        "import torch.nn.functional as F\n",
        "%matplotlib inline\n",
        "import random\n",
        "import torchvision\n",
        "import torchvision.transforms as transforms\n",
        "import numpy as np\n",
        "from torchvision import models\n",
        "import matplotlib.pyplot as plt\n",
        "batchsize = 256\n",
        "rowsize = 28\n",
        "colsize = 28\n",
        "inchannels = 3\n",
        "kernelsize = 5\n",
        "stride = 1\n",
        "padding = 0\n",
        "poolsize = 3\n",
        "fc_size1 = 384\n",
        "fc_size2 = 192\n",
        "no_classes = 10\n",
        "\n",
        "device = torch.device('cuda' if torch.cuda.is_available() else 'cpu')\n",
        "print('Device available now:', device)\n",
        "\n",
        "image_transforms = transforms.Compose([\n",
        "    transforms.Resize(299),\n",
        "    transforms.CenterCrop(299),\n",
        "    transforms.ToTensor(),\n",
        "    #transforms.Normalize(mean=[0.485, 0.456, 0.406], std=[0.229, 0.224, 0.225]),\n",
        "])\n",
        "train = torchvision.datasets.CIFAR10(root='./', train=True, download=True, transform=image_transforms)\n",
        "listsubtrain = list(range(0, len(train), 500))\n",
        "\n",
        "listest = list(range(1, len(train), 20))\n",
        "trainset_1 = torch.utils.data.Subset(train, listsubtrain)\n",
        "trainset_2 = torch.utils.data.Subset(train, listest)\n",
        "\n",
        "test = torchvision.datasets.CIFAR10(root='./', train=False, transform=image_transforms)\n",
        "\n",
        "traindata = torch.utils.data.DataLoader(trainset_1,batch_size=20, shuffle=True, num_workers=2,pin_memory=True)\n",
        "\n",
        "testdata = torch.utils.data.DataLoader(trainset_2,batch_size=5, shuffle=False, num_workers=2,pin_memory=True)\n",
        "\n",
        "transform_inception = transforms.Resize((299,299))\n",
        "\n",
        "\n",
        "model = models.inception_v3(pretrained=True)\n",
        "model.aux_logits = False\n",
        "if torch.cuda.is_available():\n",
        "    model.cuda()\n",
        "optimizer = torch.optim.SGD(model.parameters(),lr=0.01, weight_decay = 0.005, momentum = 0.9)\n",
        "criterion = nn.CrossEntropyLoss().to(device)\n",
        "def train_test(epochs):\n",
        " list_acc = 0\n",
        " for i in range(epochs):\n",
        "  Loss = 0\n",
        "  num_correct=0\n",
        "  tot = 0\n",
        "  model.train()\n",
        "  for i,data in enumerate(traindata):\n",
        "    # iterating through every batch\n",
        "    x_data = data[0].to(device)\n",
        "    labels = data[1].to(device)\n",
        "    optimizer.zero_grad()\n",
        "    outputs = model(x_data)\n",
        "    # pred[i] = outputs.argmax(dim=1)\n",
        "    # act[i] = labels.argmax(dim=1)\n",
        "    _, pred = torch.max(outputs.data, 1)\n",
        "    num_correct += (pred == labels).sum().item()\n",
        "    tot += labels.size(0)\n",
        "    loss = criterion(outputs, labels)\n",
        "    loss.backward()\n",
        "    optimizer.step()\n",
        "    Loss += loss\n",
        "    #print(loss)\n",
        "  list_acc += num_correct/tot\n",
        "  #print(list_acc)\n",
        "\n",
        " num_correct = 0\n",
        " tot = 0\n",
        " for i,data in enumerate(testdata):\n",
        "    x_data = data[0].to(device)\n",
        "    labels = data[1].to(device)\n",
        "    outputs = model(x_data)\n",
        "   \n",
        "    _, pred = torch.max(outputs.data, 1)\n",
        "    num_correct += (pred == labels).sum().item()\n",
        "    tot += labels.size(0)\n",
        " return (num_correct)/tot , list_acc/epochs"
      ],
      "metadata": {
        "colab": {
          "base_uri": "https://localhost:8080/"
        },
        "id": "KLoSmf8KUTtt",
        "outputId": "8b0edc53-73c2-417e-8db1-17ae7c5b4ffb"
      },
      "execution_count": null,
      "outputs": [
        {
          "output_type": "stream",
          "name": "stdout",
          "text": [
            "Device available now: cuda\n",
            "Files already downloaded and verified\n"
          ]
        },
        {
          "output_type": "stream",
          "name": "stderr",
          "text": [
            "/usr/local/lib/python3.8/dist-packages/torchvision/models/_utils.py:208: UserWarning: The parameter 'pretrained' is deprecated since 0.13 and will be removed in 0.15, please use 'weights' instead.\n",
            "  warnings.warn(\n",
            "/usr/local/lib/python3.8/dist-packages/torchvision/models/_utils.py:223: UserWarning: Arguments other than a weight enum or `None` for 'weights' are deprecated since 0.13 and will be removed in 0.15. The current behavior is equivalent to passing `weights=Inception_V3_Weights.IMAGENET1K_V1`. You can also use `weights=Inception_V3_Weights.DEFAULT` to get the most up-to-date weights.\n",
            "  warnings.warn(msg)\n"
          ]
        }
      ]
    },
    {
      "cell_type": "code",
      "source": [
        "list_x = [i+1 for i in range(30)]\n",
        "list_test_nob = []\n",
        "list_train_nob = []\n",
        "for i in list_x:\n",
        "  a,b = train_test(i)\n",
        "  print(a,b)\n",
        "  list_test.append(a)\n",
        "  list_train.append(b)"
      ],
      "metadata": {
        "colab": {
          "base_uri": "https://localhost:8080/"
        },
        "id": "TEnTf-ZqUZ2Y",
        "outputId": "9ee8311d-2f2e-4a1f-d91b-652fb54f60f5"
      },
      "execution_count": null,
      "outputs": [
        {
          "output_type": "stream",
          "name": "stdout",
          "text": [
            "0.2184 0.07\n",
            "0.286 0.495\n",
            "0.2596 0.8433333333333334\n",
            "0.264 0.945\n",
            "0.2996 0.9460000000000001\n",
            "0.2996 0.9583333333333334\n",
            "0.3192 0.9757142857142858\n",
            "0.306 0.9850000000000001\n",
            "0.328 0.9977777777777779\n",
            "0.324 1.0\n",
            "0.3264 1.0\n",
            "0.3308 1.0\n",
            "0.3444 1.0\n",
            "0.3412 1.0\n",
            "0.3376 1.0\n",
            "0.3376 1.0\n",
            "0.3372 1.0\n",
            "0.3432 1.0\n",
            "0.3456 1.0\n",
            "0.3508 1.0\n",
            "0.3532 1.0\n",
            "0.3608 1.0\n",
            "0.3656 1.0\n",
            "0.354 1.0\n",
            "0.2968 0.9524000000000002\n",
            "0.2916 0.9838461538461538\n",
            "0.332 0.9937037037037036\n",
            "0.3436 1.0\n",
            "0.282 0.9951724137931031\n",
            "0.3104 0.9903333333333334\n"
          ]
        }
      ]
    },
    {
      "cell_type": "code",
      "source": [
        "print(list_test[30])\n",
        "list_test_nob = [list_test[i] for i in range(30,60)]\n",
        "list_train_nob = [list_train[i] for i in range(30,60)]\n",
        "plt.plot(list_x,list_test[0:30],color = 'blue')\n",
        "\n",
        "plt.plot(list_x,list_train[0:30],color = 'green')\n",
        "\n",
        "\n",
        "plt.plot(list_x,list_test_nob,color = 'red')\n",
        "plt.plot(list_x,list_train_nob)\n",
        "plt.show()"
      ],
      "metadata": {
        "colab": {
          "base_uri": "https://localhost:8080/",
          "height": 283
        },
        "id": "rsRNnd93em5l",
        "outputId": "78213b8c-2541-4d28-f3c9-1eadb8689c25"
      },
      "execution_count": null,
      "outputs": [
        {
          "output_type": "stream",
          "name": "stdout",
          "text": [
            "0.2184\n"
          ]
        },
        {
          "output_type": "display_data",
          "data": {
            "text/plain": [
              "<Figure size 432x288 with 1 Axes>"
            ],
            "image/png": "[encoded data removed]"
          },
          "metadata": {
            "needs_background": "light"
          }
        }
      ]
    }
  ],
  "metadata": {
    "colab": {
      "provenance": []
    },
    "kernelspec": {
      "display_name": "Python 3",
      "name": "python3"
    },
    "language_info": {
      "name": "python"
    },
    "accelerator": "TPU",
    "gpuClass": "standard"
  },
  "nbformat": 4,
  "nbformat_minor": 0
}