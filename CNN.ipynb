{
  "nbformat": 4,
  "nbformat_minor": 0,
  "metadata": {
    "colab": {
      "provenance": [],
      "include_colab_link": true
    },
    "kernelspec": {
      "name": "python3",
      "display_name": "Python 3"
    },
    "language_info": {
      "name": "python"
    },
    "accelerator": "GPU",
    "gpuClass": "standard",
    "widgets": {
      "application/vnd.jupyter.widget-state+json": {
        "7fc87366f116455f87088c1facb596b6": {
          "model_module": "@jupyter-widgets/controls",
          "model_name": "HBoxModel",
          "model_module_version": "1.5.0",
          "state": {
            "_dom_classes": [],
            "_model_module": "@jupyter-widgets/controls",
            "_model_module_version": "1.5.0",
            "_model_name": "HBoxModel",
            "_view_count": null,
            "_view_module": "@jupyter-widgets/controls",
            "_view_module_version": "1.5.0",
            "_view_name": "HBoxView",
            "box_style": "",
            "children": [
              "IPY_MODEL_c7b3ac3e8a894ca98a9c46edc301a7bc",
              "IPY_MODEL_b67ba5fc21eb409cac1a53f38f12795c",
              "IPY_MODEL_d793b8ab13d940919ae630cb5e1215e7"
            ],
            "layout": "IPY_MODEL_13321c3709da41d89bd49a4154e64075"
          }
        },
        "c7b3ac3e8a894ca98a9c46edc301a7bc": {
          "model_module": "@jupyter-widgets/controls",
          "model_name": "HTMLModel",
          "model_module_version": "1.5.0",
          "state": {
            "_dom_classes": [],
            "_model_module": "@jupyter-widgets/controls",
            "_model_module_version": "1.5.0",
            "_model_name": "HTMLModel",
            "_view_count": null,
            "_view_module": "@jupyter-widgets/controls",
            "_view_module_version": "1.5.0",
            "_view_name": "HTMLView",
            "description": "",
            "description_tooltip": null,
            "layout": "IPY_MODEL_7bfd5501f40a4489a518217cf8d055b2",
            "placeholder": "​",
            "style": "IPY_MODEL_2f38aa184e5e4f7882a1a7aa96bcf3de",
            "value": "100%"
          }
        },
        "b67ba5fc21eb409cac1a53f38f12795c": {
          "model_module": "@jupyter-widgets/controls",
          "model_name": "FloatProgressModel",
          "model_module_version": "1.5.0",
          "state": {
            "_dom_classes": [],
            "_model_module": "@jupyter-widgets/controls",
            "_model_module_version": "1.5.0",
            "_model_name": "FloatProgressModel",
            "_view_count": null,
            "_view_module": "@jupyter-widgets/controls",
            "_view_module_version": "1.5.0",
            "_view_name": "ProgressView",
            "bar_style": "success",
            "description": "",
            "description_tooltip": null,
            "layout": "IPY_MODEL_cbb550b30d064bc683657de40dcb8de7",
            "max": 170498071,
            "min": 0,
            "orientation": "horizontal",
            "style": "IPY_MODEL_422de8f5cf394645bdf95b25f645f6b6",
            "value": 170498071
          }
        },
        "d793b8ab13d940919ae630cb5e1215e7": {
          "model_module": "@jupyter-widgets/controls",
          "model_name": "HTMLModel",
          "model_module_version": "1.5.0",
          "state": {
            "_dom_classes": [],
            "_model_module": "@jupyter-widgets/controls",
            "_model_module_version": "1.5.0",
            "_model_name": "HTMLModel",
            "_view_count": null,
            "_view_module": "@jupyter-widgets/controls",
            "_view_module_version": "1.5.0",
            "_view_name": "HTMLView",
            "description": "",
            "description_tooltip": null,
            "layout": "IPY_MODEL_af564fd0ae2e4a9384b0fee5b7fd5e86",
            "placeholder": "​",
            "style": "IPY_MODEL_b001ad11226f4a08904c77c01a779f79",
            "value": " 170498071/170498071 [00:14&lt;00:00, 14583499.52it/s]"
          }
        },
        "13321c3709da41d89bd49a4154e64075": {
          "model_module": "@jupyter-widgets/base",
          "model_name": "LayoutModel",
          "model_module_version": "1.2.0",
          "state": {
            "_model_module": "@jupyter-widgets/base",
            "_model_module_version": "1.2.0",
            "_model_name": "LayoutModel",
            "_view_count": null,
            "_view_module": "@jupyter-widgets/base",
            "_view_module_version": "1.2.0",
            "_view_name": "LayoutView",
            "align_content": null,
            "align_items": null,
            "align_self": null,
            "border": null,
            "bottom": null,
            "display": null,
            "flex": null,
            "flex_flow": null,
            "grid_area": null,
            "grid_auto_columns": null,
            "grid_auto_flow": null,
            "grid_auto_rows": null,
            "grid_column": null,
            "grid_gap": null,
            "grid_row": null,
            "grid_template_areas": null,
            "grid_template_columns": null,
            "grid_template_rows": null,
            "height": null,
            "justify_content": null,
            "justify_items": null,
            "left": null,
            "margin": null,
            "max_height": null,
            "max_width": null,
            "min_height": null,
            "min_width": null,
            "object_fit": null,
            "object_position": null,
            "order": null,
            "overflow": null,
            "overflow_x": null,
            "overflow_y": null,
            "padding": null,
            "right": null,
            "top": null,
            "visibility": null,
            "width": null
          }
        },
        "7bfd5501f40a4489a518217cf8d055b2": {
          "model_module": "@jupyter-widgets/base",
          "model_name": "LayoutModel",
          "model_module_version": "1.2.0",
          "state": {
            "_model_module": "@jupyter-widgets/base",
            "_model_module_version": "1.2.0",
            "_model_name": "LayoutModel",
            "_view_count": null,
            "_view_module": "@jupyter-widgets/base",
            "_view_module_version": "1.2.0",
            "_view_name": "LayoutView",
            "align_content": null,
            "align_items": null,
            "align_self": null,
            "border": null,
            "bottom": null,
            "display": null,
            "flex": null,
            "flex_flow": null,
            "grid_area": null,
            "grid_auto_columns": null,
            "grid_auto_flow": null,
            "grid_auto_rows": null,
            "grid_column": null,
            "grid_gap": null,
            "grid_row": null,
            "grid_template_areas": null,
            "grid_template_columns": null,
            "grid_template_rows": null,
            "height": null,
            "justify_content": null,
            "justify_items": null,
            "left": null,
            "margin": null,
            "max_height": null,
            "max_width": null,
            "min_height": null,
            "min_width": null,
            "object_fit": null,
            "object_position": null,
            "order": null,
            "overflow": null,
            "overflow_x": null,
            "overflow_y": null,
            "padding": null,
            "right": null,
            "top": null,
            "visibility": null,
            "width": null
          }
        },
        "2f38aa184e5e4f7882a1a7aa96bcf3de": {
          "model_module": "@jupyter-widgets/controls",
          "model_name": "DescriptionStyleModel",
          "model_module_version": "1.5.0",
          "state": {
            "_model_module": "@jupyter-widgets/controls",
            "_model_module_version": "1.5.0",
            "_model_name": "DescriptionStyleModel",
            "_view_count": null,
            "_view_module": "@jupyter-widgets/base",
            "_view_module_version": "1.2.0",
            "_view_name": "StyleView",
            "description_width": ""
          }
        },
        "cbb550b30d064bc683657de40dcb8de7": {
          "model_module": "@jupyter-widgets/base",
          "model_name": "LayoutModel",
          "model_module_version": "1.2.0",
          "state": {
            "_model_module": "@jupyter-widgets/base",
            "_model_module_version": "1.2.0",
            "_model_name": "LayoutModel",
            "_view_count": null,
            "_view_module": "@jupyter-widgets/base",
            "_view_module_version": "1.2.0",
            "_view_name": "LayoutView",
            "align_content": null,
            "align_items": null,
            "align_self": null,
            "border": null,
            "bottom": null,
            "display": null,
            "flex": null,
            "flex_flow": null,
            "grid_area": null,
            "grid_auto_columns": null,
            "grid_auto_flow": null,
            "grid_auto_rows": null,
            "grid_column": null,
            "grid_gap": null,
            "grid_row": null,
            "grid_template_areas": null,
            "grid_template_columns": null,
            "grid_template_rows": null,
            "height": null,
            "justify_content": null,
            "justify_items": null,
            "left": null,
            "margin": null,
            "max_height": null,
            "max_width": null,
            "min_height": null,
            "min_width": null,
            "object_fit": null,
            "object_position": null,
            "order": null,
            "overflow": null,
            "overflow_x": null,
            "overflow_y": null,
            "padding": null,
            "right": null,
            "top": null,
            "visibility": null,
            "width": null
          }
        },
        "422de8f5cf394645bdf95b25f645f6b6": {
          "model_module": "@jupyter-widgets/controls",
          "model_name": "ProgressStyleModel",
          "model_module_version": "1.5.0",
          "state": {
            "_model_module": "@jupyter-widgets/controls",
            "_model_module_version": "1.5.0",
            "_model_name": "ProgressStyleModel",
            "_view_count": null,
            "_view_module": "@jupyter-widgets/base",
            "_view_module_version": "1.2.0",
            "_view_name": "StyleView",
            "bar_color": null,
            "description_width": ""
          }
        },
        "af564fd0ae2e4a9384b0fee5b7fd5e86": {
          "model_module": "@jupyter-widgets/base",
          "model_name": "LayoutModel",
          "model_module_version": "1.2.0",
          "state": {
            "_model_module": "@jupyter-widgets/base",
            "_model_module_version": "1.2.0",
            "_model_name": "LayoutModel",
            "_view_count": null,
            "_view_module": "@jupyter-widgets/base",
            "_view_module_version": "1.2.0",
            "_view_name": "LayoutView",
            "align_content": null,
            "align_items": null,
            "align_self": null,
            "border": null,
            "bottom": null,
            "display": null,
            "flex": null,
            "flex_flow": null,
            "grid_area": null,
            "grid_auto_columns": null,
            "grid_auto_flow": null,
            "grid_auto_rows": null,
            "grid_column": null,
            "grid_gap": null,
            "grid_row": null,
            "grid_template_areas": null,
            "grid_template_columns": null,
            "grid_template_rows": null,
            "height": null,
            "justify_content": null,
            "justify_items": null,
            "left": null,
            "margin": null,
            "max_height": null,
            "max_width": null,
            "min_height": null,
            "min_width": null,
            "object_fit": null,
            "object_position": null,
            "order": null,
            "overflow": null,
            "overflow_x": null,
            "overflow_y": null,
            "padding": null,
            "right": null,
            "top": null,
            "visibility": null,
            "width": null
          }
        },
        "b001ad11226f4a08904c77c01a779f79": {
          "model_module": "@jupyter-widgets/controls",
          "model_name": "DescriptionStyleModel",
          "model_module_version": "1.5.0",
          "state": {
            "_model_module": "@jupyter-widgets/controls",
            "_model_module_version": "1.5.0",
            "_model_name": "DescriptionStyleModel",
            "_view_count": null,
            "_view_module": "@jupyter-widgets/base",
            "_view_module_version": "1.2.0",
            "_view_name": "StyleView",
            "description_width": ""
          }
        }
      }
    }
  },
  "cells": [
    {
      "cell_type": "markdown",
      "metadata": {
        "id": "view-in-github",
        "colab_type": "text"
      },
      "source": [
        "<a href=\"https://colab.research.google.com/github/MS-Mukund/Team50_SMAI/blob/master/CNN.ipynb\" target=\"_parent\"><img src=\"https://colab.research.google.com/assets/colab-badge.svg\" alt=\"Open In Colab\"/></a>"
      ]
    },
    {
      "cell_type": "code",
      "execution_count": 1,
      "metadata": {
        "id": "ztbWc_Xr3Td4"
      },
      "outputs": [],
      "source": [
        "import torch\n",
        "import numpy as np\n",
        "import pandas as pd\n",
        "import torch.nn as nn\n",
        "import torch.optim as optim\n",
        "import os\n",
        "import matplotlib.pyplot as plt\n",
        "import torch.nn.functional as F\n",
        "%matplotlib inline\n",
        "import random"
      ]
    },
    {
      "cell_type": "code",
      "source": [
        "import torchvision\n",
        "import torchvision.transforms as transforms"
      ],
      "metadata": {
        "id": "ZLxLeR0W3cho"
      },
      "execution_count": 2,
      "outputs": []
    },
    {
      "cell_type": "code",
      "source": [
        "device = torch.device('cuda' if torch.cuda.is_available() else 'cpu')\n",
        "print('Device available now:', device)"
      ],
      "metadata": {
        "colab": {
          "base_uri": "https://localhost:8080/"
        },
        "id": "OvOcEHcn3dr-",
        "outputId": "7a8bcbb7-6f34-4868-8a11-409ee13d96c0"
      },
      "execution_count": 3,
      "outputs": [
        {
          "output_type": "stream",
          "name": "stdout",
          "text": [
            "Device available now: cuda\n"
          ]
        }
      ]
    },
    {
      "cell_type": "code",
      "source": [
        "image_transforms = transforms.Compose(\n",
        "         [transforms.ToTensor(),\n",
        "         transforms.CenterCrop(28),\n",
        "         transforms.Normalize((0.5), (0.5))]\n",
        ")"
      ],
      "metadata": {
        "id": "_3bCw2nA3dy9"
      },
      "execution_count": 4,
      "outputs": []
    },
    {
      "cell_type": "code",
      "source": [
        "batchsize = 256\n",
        "rowsize = 28\n",
        "colsize = 28\n",
        "inchannels = 3\n",
        "kernelsize = 5\n",
        "stride = 1\n",
        "padding = 0\n",
        "poolsize = 3\n",
        "fc_size1 = 384\n",
        "fc_size2 = 192\n",
        "no_classes = 10\n",
        "epochs = 100\n"
      ],
      "metadata": {
        "id": "ItD7pEJ93g3P"
      },
      "execution_count": 5,
      "outputs": []
    },
    {
      "cell_type": "code",
      "source": [
        "train = torchvision.datasets.CIFAR10(root='./', train=True, download=True, transform=image_transforms)\n",
        "test = torchvision.datasets.CIFAR10(root='./', train=False, transform=image_transforms)"
      ],
      "metadata": {
        "id": "b388If7E3idC",
        "colab": {
          "base_uri": "https://localhost:8080/",
          "height": 84,
          "referenced_widgets": [
            "7fc87366f116455f87088c1facb596b6",
            "c7b3ac3e8a894ca98a9c46edc301a7bc",
            "b67ba5fc21eb409cac1a53f38f12795c",
            "d793b8ab13d940919ae630cb5e1215e7",
            "13321c3709da41d89bd49a4154e64075",
            "7bfd5501f40a4489a518217cf8d055b2",
            "2f38aa184e5e4f7882a1a7aa96bcf3de",
            "cbb550b30d064bc683657de40dcb8de7",
            "422de8f5cf394645bdf95b25f645f6b6",
            "af564fd0ae2e4a9384b0fee5b7fd5e86",
            "b001ad11226f4a08904c77c01a779f79"
          ]
        },
        "outputId": "b22f76c7-57ff-493e-83d2-defd6e0abba7"
      },
      "execution_count": 6,
      "outputs": [
        {
          "output_type": "stream",
          "name": "stdout",
          "text": [
            "Downloading https://www.cs.toronto.edu/~kriz/cifar-10-python.tar.gz to ./cifar-10-python.tar.gz\n"
          ]
        },
        {
          "output_type": "display_data",
          "data": {
            "text/plain": [
              "  0%|          | 0/170498071 [00:00<?, ?it/s]"
            ],
            "application/vnd.jupyter.widget-view+json": {
              "version_major": 2,
              "version_minor": 0,
              "model_id": "7fc87366f116455f87088c1facb596b6"
            }
          },
          "metadata": {}
        },
        {
          "output_type": "stream",
          "name": "stdout",
          "text": [
            "Extracting ./cifar-10-python.tar.gz to ./\n"
          ]
        }
      ]
    },
    {
      "cell_type": "code",
      "source": [
        "traindata = torch.utils.data.DataLoader(train,batch_size=batchsize, shuffle=True, num_workers=2,pin_memory=True)\n",
        "testdata = torch.utils.data.DataLoader(test,batch_size=batchsize, shuffle=False, num_workers=2,pin_memory=True)"
      ],
      "metadata": {
        "id": "dtExNK1h3j-x"
      },
      "execution_count": 7,
      "outputs": []
    },
    {
      "cell_type": "code",
      "source": [
        "class SimpleAlex(nn.Module):\n",
        "  def __init__(self,inchannels,kernelsize,stride,padding,poolsize,fc_size1,fc_size2,no_classes):\n",
        "    super(SimpleAlex, self).__init__()\n",
        "    self.conv1 = nn.Conv2d(inchannels,24,kernelsize,stride,padding)\n",
        "    self.pool1 = nn.MaxPool2d(poolsize,2)\n",
        "    self.BatchNorm1 = nn.BatchNorm2d(24)\n",
        "    self.conv2 = nn.Conv2d(24,48,kernelsize,stride,padding)\n",
        "    self.pool2 = nn.MaxPool2d(poolsize,2)\n",
        "    self.BatchNorm2 = nn.BatchNorm2d(48)\n",
        "    self.fc1 = nn.Linear(432,fc_size1)\n",
        "    self.fc2 = nn.Linear(fc_size1,fc_size2)\n",
        "    self.fc3 = nn.Linear(fc_size2,no_classes) \n",
        "\n",
        "  def forward(self, x):\n",
        "    x = F.relu(self.conv1(x))\n",
        "    x = self.pool1(x)\n",
        "    x = self.BatchNorm1(x)\n",
        "    x = F.relu(self.conv2(x))\n",
        "    x = self.pool2(x)\n",
        "    x = self.BatchNorm2(x)\n",
        "    x = torch.flatten(x,1)\n",
        "    x = F.relu(self.fc1(x))\n",
        "    x = F.relu(self.fc2(x))\n",
        "    x = F.relu(self.fc3(x))\n",
        "    return x\n",
        "\n",
        "# class SimpleAlex(nn.Module):\n",
        "#     def __init__(self, num_classes):\n",
        "#         super(SimpleAlex, self).__init__()\n",
        "#         self.conv_layer1 = nn.Conv2d(in_channels=3, out_channels=32, kernel_size=3)\n",
        "#         self.conv_layer2 = nn.Conv2d(in_channels=32, out_channels=32, kernel_size=3)\n",
        "#         self.max_pool1 = nn.MaxPool2d(kernel_size = 2, stride = 2)\n",
        "        \n",
        "#         self.conv_layer3 = nn.Conv2d(in_channels=32, out_channels=64, kernel_size=3)\n",
        "#         self.conv_layer4 = nn.Conv2d(in_channels=64, out_channels=64, kernel_size=3)\n",
        "#         self.max_pool2 = nn.MaxPool2d(kernel_size = 2, stride = 2)\n",
        "        \n",
        "#         self.fc1 = nn.Linear(1600, 128)\n",
        "#         self.relu1 = nn.ReLU()\n",
        "#         self.fc2 = nn.Linear(128, num_classes)\n",
        "#     def forward(self, x):\n",
        "#         out = self.conv_layer1(x)\n",
        "#         out = self.conv_layer2(out)\n",
        "#         out = self.max_pool1(out)\n",
        "        \n",
        "#         out = self.conv_layer3(out)\n",
        "#         out = self.conv_layer4(out)\n",
        "#         out = self.max_pool2(out)\n",
        "                \n",
        "#         out = out.reshape(out.size(0), -1)\n",
        "        \n",
        "#         out = self.fc1(out)\n",
        "#         out = self.relu1(out)\n",
        "#         out = self.fc2(out)\n",
        "#         return out"
      ],
      "metadata": {
        "id": "8BR7zq-n3lK7"
      },
      "execution_count": 8,
      "outputs": []
    },
    {
      "cell_type": "code",
      "source": [
        "model = SimpleAlex(inchannels,kernelsize,stride,padding,poolsize,fc_size1,fc_size2,no_classes).to(device)\n",
        "# model = SimpleAlex(no_classes).to(device)"
      ],
      "metadata": {
        "id": "I0y22U9Z3msK"
      },
      "execution_count": 9,
      "outputs": []
    },
    {
      "cell_type": "markdown",
      "source": [],
      "metadata": {
        "id": "dxXNKMGO8R1G"
      }
    },
    {
      "cell_type": "code",
      "source": [
        "optimizer = torch.optim.SGD(model.parameters(),lr=0.01, weight_decay = 0.005, momentum = 0.9)\n",
        "criterion = nn.CrossEntropyLoss().to(device)"
      ],
      "metadata": {
        "id": "BKkMAMvB3oJT"
      },
      "execution_count": 10,
      "outputs": []
    },
    {
      "cell_type": "code",
      "source": [
        "# def training(model,traindata,testdata):\n",
        "for i in range(epochs):\n",
        "  Loss = 0\n",
        "  num_correct=0\n",
        "  tot = 0\n",
        "  for i,data in enumerate(traindata):\n",
        "    # iterating through every batch\n",
        "    x_data = data[0].to(device)\n",
        "    labels = data[1].to(device)\n",
        "    optimizer.zero_grad()\n",
        "    outputs = model(x_data)\n",
        "    # pred[i] = outputs.argmax(dim=1)\n",
        "    # act[i] = labels.argmax(dim=1)\n",
        "    _, pred = torch.max(outputs.data, 1)\n",
        "    num_correct += (pred == labels).sum().item()\n",
        "    tot += labels.size(0)\n",
        "    loss = criterion(outputs, labels)\n",
        "    loss.backward()\n",
        "    optimizer.step()\n",
        "    Loss += loss\n",
        "  print(\"Accuracy : \",num_correct/tot)\n",
        "  print(\"Loss : \",loss)\n",
        "  \n",
        "\n",
        "    "
      ],
      "metadata": {
        "colab": {
          "base_uri": "https://localhost:8080/"
        },
        "id": "UHKQ6cAd3p9l",
        "outputId": "5ab78924-62cc-4d83-def6-0e13436a322c"
      },
      "execution_count": null,
      "outputs": [
        {
          "output_type": "stream",
          "name": "stdout",
          "text": [
            "Accuracy :  0.37652\n",
            "Loss :  tensor(1.2913, device='cuda:0', grad_fn=<NllLossBackward0>)\n",
            "Accuracy :  0.5603\n",
            "Loss :  tensor(1.0476, device='cuda:0', grad_fn=<NllLossBackward0>)\n",
            "Accuracy :  0.61928\n",
            "Loss :  tensor(0.9421, device='cuda:0', grad_fn=<NllLossBackward0>)\n",
            "Accuracy :  0.64788\n",
            "Loss :  tensor(0.9709, device='cuda:0', grad_fn=<NllLossBackward0>)\n",
            "Accuracy :  0.67952\n",
            "Loss :  tensor(0.7897, device='cuda:0', grad_fn=<NllLossBackward0>)\n",
            "Accuracy :  0.69342\n",
            "Loss :  tensor(0.7970, device='cuda:0', grad_fn=<NllLossBackward0>)\n",
            "Accuracy :  0.71232\n",
            "Loss :  tensor(0.9156, device='cuda:0', grad_fn=<NllLossBackward0>)\n",
            "Accuracy :  0.72302\n",
            "Loss :  tensor(0.8230, device='cuda:0', grad_fn=<NllLossBackward0>)\n",
            "Accuracy :  0.73482\n",
            "Loss :  tensor(0.7774, device='cuda:0', grad_fn=<NllLossBackward0>)\n",
            "Accuracy :  0.74112\n",
            "Loss :  tensor(0.6957, device='cuda:0', grad_fn=<NllLossBackward0>)\n",
            "Accuracy :  0.75538\n",
            "Loss :  tensor(0.6203, device='cuda:0', grad_fn=<NllLossBackward0>)\n",
            "Accuracy :  0.75688\n",
            "Loss :  tensor(0.7662, device='cuda:0', grad_fn=<NllLossBackward0>)\n"
          ]
        }
      ]
    },
    {
      "cell_type": "code",
      "source": [
        "with torch.no_grad():\n",
        "    correct = 0\n",
        "    total = 0\n",
        "    for images, labels in testdata:\n",
        "        images = images.to(device)\n",
        "        labels = labels.to(device)\n",
        "        outputs = model(images)\n",
        "        _, predicted = torch.max(outputs.data, 1)\n",
        "        total += labels.size(0)\n",
        "        correct += (predicted == labels).sum().item()\n",
        "    \n",
        "    print(\"Accuracy of the on test images : \",100 * correct / total)\n",
        "\n"
      ],
      "metadata": {
        "id": "ae4Llt2ZLDlQ"
      },
      "execution_count": null,
      "outputs": []
    }
  ]
}