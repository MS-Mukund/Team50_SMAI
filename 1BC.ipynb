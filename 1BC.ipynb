{
  "nbformat": 4,
  "nbformat_minor": 0,
  "metadata": {
    "colab": {
      "provenance": []
    },
    "kernelspec": {
      "name": "python3",
      "display_name": "Python 3"
    },
    "language_info": {
      "name": "python"
    },
    "accelerator": "GPU",
    "gpuClass": "standard"
  },
  "cells": [
    {
      "cell_type": "code",
      "execution_count": 69,
      "metadata": {
        "id": "jre829pG27UM"
      },
      "outputs": [],
      "source": [
        "import torch\n",
        "import numpy as np\n",
        "import pandas as pd\n",
        "import torch.nn as nn\n",
        "import torch.optim as optim\n",
        "import os\n",
        "import matplotlib.pyplot as plt\n",
        "import torch.nn.functional as F\n",
        "%matplotlib inline\n",
        "import random"
      ]
    },
    {
      "cell_type": "code",
      "source": [
        "import torchvision\n",
        "import torchvision.transforms as transforms"
      ],
      "metadata": {
        "id": "dWmPpuef3TGA"
      },
      "execution_count": 70,
      "outputs": []
    },
    {
      "cell_type": "code",
      "source": [
        "device = torch.device('cuda' if torch.cuda.is_available() else 'cpu')\n",
        "print('Device available now:', device)"
      ],
      "metadata": {
        "colab": {
          "base_uri": "https://localhost:8080/"
        },
        "id": "y2iRWjyC3VDv",
        "outputId": "1cc6e70f-d652-49f7-c2fd-783b7cd8a976"
      },
      "execution_count": 71,
      "outputs": [
        {
          "output_type": "stream",
          "name": "stdout",
          "text": [
            "Device available now: cuda\n"
          ]
        }
      ]
    },
    {
      "cell_type": "code",
      "source": [],
      "metadata": {
        "id": "1Z25_xUN3aBJ"
      },
      "execution_count": 71,
      "outputs": []
    },
    {
      "cell_type": "code",
      "source": [
        "image_transforms = transforms.Compose(\n",
        "         [transforms.ToTensor(),\n",
        "         transforms.CenterCrop(28),\n",
        "         transforms.Normalize((0.5), (0.5))]\n",
        ")"
      ],
      "metadata": {
        "id": "TRjEIowB3W4L"
      },
      "execution_count": 72,
      "outputs": []
    },
    {
      "cell_type": "code",
      "source": [
        "batchsize = 32\n",
        "rowsize = 28\n",
        "colsize = 28\n",
        "inchannels = 3\n",
        "kernelsize = 5\n",
        "stride = 1\n",
        "padding = 0\n",
        "poolsize = 3\n",
        "fc_size1 = 384\n",
        "fc_size2 = 192\n",
        "no_classes = 10\n",
        "epochs = 100\n",
        "overfit_accuracy = 90"
      ],
      "metadata": {
        "id": "Bj2zVbKW3YWK"
      },
      "execution_count": 73,
      "outputs": []
    },
    {
      "cell_type": "code",
      "source": [
        "alex_overfitcounts = []\n",
        "alex_testaccuracies = []"
      ],
      "metadata": {
        "id": "1tXII3qt3cfL"
      },
      "execution_count": 74,
      "outputs": []
    },
    {
      "cell_type": "code",
      "source": [
        "train = torchvision.datasets.CIFAR10(root='./', train=True, download=True, transform=image_transforms)\n",
        "test = torchvision.datasets.CIFAR10(root='./', train=False, transform=image_transforms)"
      ],
      "metadata": {
        "colab": {
          "base_uri": "https://localhost:8080/"
        },
        "id": "wlrt0TmJ3c_d",
        "outputId": "b5d7cc6e-c63f-4025-c3d6-e74eb6f364a8"
      },
      "execution_count": 75,
      "outputs": [
        {
          "output_type": "stream",
          "name": "stdout",
          "text": [
            "Files already downloaded and verified\n"
          ]
        }
      ]
    },
    {
      "cell_type": "code",
      "source": [
        "trainindices = list(range(0, len(train), 10))\n",
        "testindices = list(range(0, len(test),10))\n",
        "trainset = torch.utils.data.Subset(train,trainindices)\n",
        "testset = torch.utils.data.Subset(test,testindices)"
      ],
      "metadata": {
        "id": "N5j1wMys3eaB"
      },
      "execution_count": 76,
      "outputs": []
    },
    {
      "cell_type": "code",
      "source": [
        "print(len(trainset))"
      ],
      "metadata": {
        "colab": {
          "base_uri": "https://localhost:8080/"
        },
        "id": "T50X1Mce3gsy",
        "outputId": "9fb14ed8-1020-4714-a588-1687cfc9d859"
      },
      "execution_count": 77,
      "outputs": [
        {
          "output_type": "stream",
          "name": "stdout",
          "text": [
            "5000\n"
          ]
        }
      ]
    },
    {
      "cell_type": "code",
      "source": [
        "traindata = torch.utils.data.DataLoader(trainset,batch_size=batchsize, shuffle=False, num_workers=2,pin_memory=True)\n",
        "testdata = torch.utils.data.DataLoader(testset,batch_size=batchsize, shuffle=False, num_workers=2,pin_memory=True)"
      ],
      "metadata": {
        "id": "tEiJoqSO3vOo"
      },
      "execution_count": 78,
      "outputs": []
    },
    {
      "cell_type": "code",
      "source": [
        "train_labels = torch.zeros(len(traindata)*batchsize)\n",
        "test_labels = torch.zeros(len(testdata)*batchsize)\n",
        "trainnum = 0\n",
        "testnum = 0\n",
        "for i,data in enumerate(traindata):\n",
        "  for j in range(len(data[1])):\n",
        "    train_labels[trainnum] = data[1][j]\n",
        "    trainnum+=1\n",
        "for i,data in enumerate(testdata):\n",
        "  for j in range(len(data[1])):\n",
        "    test_labels[testnum] = data[1][j]\n",
        "    testnum+=1\n",
        "  "
      ],
      "metadata": {
        "id": "P1bNVdnM7k6T"
      },
      "execution_count": 79,
      "outputs": []
    },
    {
      "cell_type": "code",
      "source": [
        "class SimpleAlex(nn.Module):\n",
        "  def __init__(self,inchannels,kernelsize,stride,padding,poolsize,fc_size1,fc_size2,no_classes):\n",
        "    super(SimpleAlex, self).__init__()\n",
        "    self.conv1 = nn.Conv2d(inchannels,24,kernelsize,stride,padding)\n",
        "    self.pool1 = nn.MaxPool2d(poolsize,2)\n",
        "    self.BatchNorm1 = nn.BatchNorm2d(24)\n",
        "    self.conv2 = nn.Conv2d(24,48,kernelsize,stride,padding)\n",
        "    self.pool2 = nn.MaxPool2d(poolsize,2)\n",
        "    self.BatchNorm2 = nn.BatchNorm2d(48)\n",
        "    self.fc1 = nn.Linear(432,fc_size1)\n",
        "    self.fc2 = nn.Linear(fc_size1,fc_size2)\n",
        "    self.fc3 = nn.Linear(fc_size2,no_classes) \n",
        "\n",
        "  def forward(self, x):\n",
        "    x = F.relu(self.conv1(x))\n",
        "    x = self.pool1(x)\n",
        "    x = self.BatchNorm1(x)\n",
        "    x = F.relu(self.conv2(x))\n",
        "    x = self.pool2(x)\n",
        "    x = self.BatchNorm2(x)\n",
        "    x = torch.flatten(x,1)\n",
        "    x = F.relu(self.fc1(x))\n",
        "    x = F.relu(self.fc2(x))\n",
        "    x = F.relu(self.fc3(x))\n",
        "    return x"
      ],
      "metadata": {
        "id": "Zet0rwJJ8Ika"
      },
      "execution_count": 80,
      "outputs": []
    },
    {
      "cell_type": "code",
      "source": [
        "model = SimpleAlex(inchannels,kernelsize,stride,padding,poolsize,fc_size1,fc_size2,no_classes).to(device)\n",
        "# model = SimpleAlex(no_classes).to(device)"
      ],
      "metadata": {
        "id": "Y9-igyJ18Ziu"
      },
      "execution_count": 81,
      "outputs": []
    },
    {
      "cell_type": "code",
      "source": [
        "optimizer = torch.optim.SGD(model.parameters(),lr=0.01, weight_decay = 0.005, momentum = 0.9)\n",
        "criterion = nn.CrossEntropyLoss().to(device)"
      ],
      "metadata": {
        "id": "yXfW1su48cMF"
      },
      "execution_count": 82,
      "outputs": []
    },
    {
      "cell_type": "code",
      "source": [
        "# def training(model,traindata,testdata):\n",
        "def training(model,traindata,testdata,optimizer,train_labels,test_labels):\n",
        "  test_accuracies = []\n",
        "  test_accuracies.append(0)\n",
        "  test_accuracies.append(0)\n",
        "  test_accuracies.append(0)\n",
        "  count=0\n",
        "  flag=0\n",
        "  prev = 0\n",
        "  for ep in range(epochs):\n",
        "    Loss = 0\n",
        "    num_correct=0\n",
        "    tot = 0\n",
        "    testnum = 0\n",
        "    trainnum = 0\n",
        "    for i,data in enumerate(traindata):\n",
        "      x_data = data[0].to(device)\n",
        "      labels = data[1].to(device)\n",
        "      for j in range(len(x_data)):\n",
        "        labels[j] = train_labels[trainnum]\n",
        "        trainnum+=1\n",
        "      optimizer.zero_grad()\n",
        "      outputs = model(x_data)\n",
        "      _, pred = torch.max(outputs.data, 1)\n",
        "      num_correct += (pred == labels).sum().item()\n",
        "      tot += labels.size(0)\n",
        "      loss = criterion(outputs, labels)\n",
        "      loss.backward()\n",
        "      optimizer.step()\n",
        "      Loss += loss\n",
        "    print(\"Accuracy : \",num_correct/tot)\n",
        "    print(\"Loss : \",loss)\n",
        "    if((num_correct/tot) - prev < 0.001):\n",
        "      flag=1\n",
        "    prev =  num_correct/tot\n",
        "    with torch.no_grad():\n",
        "      correct = 0\n",
        "      total = 0\n",
        "      for i,data in enumerate(testdata):\n",
        "          images = data[0]\n",
        "          labels = data[1]\n",
        "          images = images.to(device)\n",
        "          labels = labels.to(device)\n",
        "          for j in range(len(images)):\n",
        "             labels[j] = test_labels[testnum]\n",
        "             testnum+=1\n",
        "          outputs = model(images)\n",
        "          _, predicted = torch.max(outputs.data, 1)\n",
        "          total += labels.size(0)\n",
        "          correct += (predicted == labels).sum().item() \n",
        "      test_accuracies.append(100*correct/total)\n",
        "      if flag==1:\n",
        "        alex_overfitcounts.append(count+1)\n",
        "        alex_testaccuracies.append(100*correct/total)\n",
        "        break\n",
        "      print(\"Accuracy of the on test images : \",100 * correct / total)\n",
        "      count+=1\n",
        "      if flag==1:\n",
        "        break"
      ],
      "metadata": {
        "id": "n5tdzZO38gwl"
      },
      "execution_count": 83,
      "outputs": []
    },
    {
      "cell_type": "code",
      "source": [
        "per = 0\n",
        "for i in range(6):\n",
        "  model = SimpleAlex(inchannels,kernelsize,stride,padding,poolsize,fc_size1,fc_size2,no_classes).to(device)\n",
        "  optimizer = torch.optim.SGD(model.parameters(),lr=0.01, weight_decay = 0.005, momentum = 0.9)\n",
        "  train_labels = torch.zeros(len(traindata)*batchsize)\n",
        "  test_labels = torch.zeros(len(testdata)*batchsize)\n",
        "  trainnum = 0\n",
        "  testnum = 0\n",
        "  for i,data in enumerate(traindata):\n",
        "    for j in range(len(data[1])):\n",
        "      train_labels[trainnum] = data[1][j]\n",
        "      trainnum+=1\n",
        "  for i,data in enumerate(testdata):\n",
        "    for j in range(len(data[1])):\n",
        "      test_labels[testnum] = data[1][j]\n",
        "      testnum+=1\n",
        "  print(\"-------------------------------------\")\n",
        "  localtraining_data = traindata\n",
        "  localtest_data = testdata\n",
        "  if per!=0:\n",
        "    trainls = random.sample(range(0,(len(traindata)*batchsize)),int((len(traindata)*batchsize)*per/100))\n",
        "    testls = random.sample(range(0,(len(testdata)*batchsize)),int((len(testdata)*batchsize)*per/100))\n",
        "    trainls.sort()\n",
        "    testls.sort()\n",
        "    for i in range(len(trainls)):\n",
        "      train_labels[trainls[i]] = random.randint(0,9)\n",
        "    for i in range(len(testls)):\n",
        "      test_labels[testls[i]] = random.randint(0,9)\n",
        "  training(model,localtraining_data,localtest_data,optimizer,train_labels,test_labels)\n",
        "  per+=20"
      ],
      "metadata": {
        "colab": {
          "base_uri": "https://localhost:8080/"
        },
        "id": "qwc2iG_d98s_",
        "outputId": "01f5a20c-e31d-49e9-bd30-65f410e2a645"
      },
      "execution_count": 84,
      "outputs": [
        {
          "output_type": "stream",
          "name": "stdout",
          "text": [
            "-------------------------------------\n",
            "Accuracy :  0.2888\n",
            "Loss :  tensor(2.0994, device='cuda:0', grad_fn=<NllLossBackward0>)\n",
            "Accuracy of the on test images :  36.4\n",
            "Accuracy :  0.4126\n",
            "Loss :  tensor(1.5721, device='cuda:0', grad_fn=<NllLossBackward0>)\n",
            "Accuracy of the on test images :  43.7\n",
            "Accuracy :  0.483\n",
            "Loss :  tensor(1.1718, device='cuda:0', grad_fn=<NllLossBackward0>)\n",
            "Accuracy of the on test images :  43.7\n",
            "Accuracy :  0.5458\n",
            "Loss :  tensor(0.8233, device='cuda:0', grad_fn=<NllLossBackward0>)\n",
            "Accuracy of the on test images :  46.8\n",
            "Accuracy :  0.5922\n",
            "Loss :  tensor(0.6695, device='cuda:0', grad_fn=<NllLossBackward0>)\n",
            "Accuracy of the on test images :  46.1\n",
            "Accuracy :  0.6308\n",
            "Loss :  tensor(0.5738, device='cuda:0', grad_fn=<NllLossBackward0>)\n",
            "Accuracy of the on test images :  48.0\n",
            "Accuracy :  0.6542\n",
            "Loss :  tensor(0.4562, device='cuda:0', grad_fn=<NllLossBackward0>)\n",
            "Accuracy of the on test images :  47.5\n",
            "Accuracy :  0.6876\n",
            "Loss :  tensor(0.4848, device='cuda:0', grad_fn=<NllLossBackward0>)\n",
            "Accuracy of the on test images :  47.4\n",
            "Accuracy :  0.7114\n",
            "Loss :  tensor(0.3837, device='cuda:0', grad_fn=<NllLossBackward0>)\n",
            "Accuracy of the on test images :  47.5\n",
            "Accuracy :  0.7608\n",
            "Loss :  tensor(0.1919, device='cuda:0', grad_fn=<NllLossBackward0>)\n",
            "Accuracy of the on test images :  47.2\n",
            "Accuracy :  0.7684\n",
            "Loss :  tensor(0.1990, device='cuda:0', grad_fn=<NllLossBackward0>)\n",
            "Accuracy of the on test images :  46.5\n",
            "Accuracy :  0.7974\n",
            "Loss :  tensor(0.1747, device='cuda:0', grad_fn=<NllLossBackward0>)\n",
            "Accuracy of the on test images :  45.1\n",
            "Accuracy :  0.8188\n",
            "Loss :  tensor(0.5226, device='cuda:0', grad_fn=<NllLossBackward0>)\n",
            "Accuracy of the on test images :  44.0\n",
            "Accuracy :  0.8142\n",
            "Loss :  tensor(0.0729, device='cuda:0', grad_fn=<NllLossBackward0>)\n",
            "-------------------------------------\n",
            "Accuracy :  0.2024\n",
            "Loss :  tensor(1.9673, device='cuda:0', grad_fn=<NllLossBackward0>)\n",
            "Accuracy of the on test images :  24.3\n",
            "Accuracy :  0.284\n",
            "Loss :  tensor(1.7496, device='cuda:0', grad_fn=<NllLossBackward0>)\n",
            "Accuracy of the on test images :  28.4\n",
            "Accuracy :  0.3292\n",
            "Loss :  tensor(1.5732, device='cuda:0', grad_fn=<NllLossBackward0>)\n",
            "Accuracy of the on test images :  31.2\n",
            "Accuracy :  0.3646\n",
            "Loss :  tensor(1.2986, device='cuda:0', grad_fn=<NllLossBackward0>)\n",
            "Accuracy of the on test images :  31.1\n",
            "Accuracy :  0.4096\n",
            "Loss :  tensor(1.1400, device='cuda:0', grad_fn=<NllLossBackward0>)\n",
            "Accuracy of the on test images :  33.2\n",
            "Accuracy :  0.439\n",
            "Loss :  tensor(1.0720, device='cuda:0', grad_fn=<NllLossBackward0>)\n",
            "Accuracy of the on test images :  34.3\n",
            "Accuracy :  0.465\n",
            "Loss :  tensor(0.8668, device='cuda:0', grad_fn=<NllLossBackward0>)\n",
            "Accuracy of the on test images :  34.4\n",
            "Accuracy :  0.4874\n",
            "Loss :  tensor(0.8566, device='cuda:0', grad_fn=<NllLossBackward0>)\n",
            "Accuracy of the on test images :  35.6\n",
            "Accuracy :  0.5128\n",
            "Loss :  tensor(0.8065, device='cuda:0', grad_fn=<NllLossBackward0>)\n",
            "Accuracy of the on test images :  35.4\n",
            "Accuracy :  0.5644\n",
            "Loss :  tensor(0.7432, device='cuda:0', grad_fn=<NllLossBackward0>)\n",
            "Accuracy of the on test images :  39.8\n",
            "Accuracy :  0.6028\n",
            "Loss :  tensor(0.7318, device='cuda:0', grad_fn=<NllLossBackward0>)\n",
            "Accuracy of the on test images :  38.2\n",
            "Accuracy :  0.635\n",
            "Loss :  tensor(0.6360, device='cuda:0', grad_fn=<NllLossBackward0>)\n",
            "Accuracy of the on test images :  35.8\n",
            "Accuracy :  0.6618\n",
            "Loss :  tensor(0.5300, device='cuda:0', grad_fn=<NllLossBackward0>)\n",
            "Accuracy of the on test images :  36.0\n",
            "Accuracy :  0.6852\n",
            "Loss :  tensor(0.5016, device='cuda:0', grad_fn=<NllLossBackward0>)\n",
            "Accuracy of the on test images :  35.2\n",
            "Accuracy :  0.6816\n",
            "Loss :  tensor(0.5500, device='cuda:0', grad_fn=<NllLossBackward0>)\n",
            "-------------------------------------\n",
            "Accuracy :  0.1656\n",
            "Loss :  tensor(2.2061, device='cuda:0', grad_fn=<NllLossBackward0>)\n",
            "Accuracy of the on test images :  23.2\n",
            "Accuracy :  0.2258\n",
            "Loss :  tensor(2.1007, device='cuda:0', grad_fn=<NllLossBackward0>)\n",
            "Accuracy of the on test images :  24.5\n",
            "Accuracy :  0.268\n",
            "Loss :  tensor(2.0383, device='cuda:0', grad_fn=<NllLossBackward0>)\n",
            "Accuracy of the on test images :  27.1\n",
            "Accuracy :  0.305\n",
            "Loss :  tensor(1.7520, device='cuda:0', grad_fn=<NllLossBackward0>)\n",
            "Accuracy of the on test images :  27.8\n",
            "Accuracy :  0.329\n",
            "Loss :  tensor(1.5573, device='cuda:0', grad_fn=<NllLossBackward0>)\n",
            "Accuracy of the on test images :  28.9\n",
            "Accuracy :  0.3534\n",
            "Loss :  tensor(1.3857, device='cuda:0', grad_fn=<NllLossBackward0>)\n",
            "Accuracy of the on test images :  29.1\n",
            "Accuracy :  0.3826\n",
            "Loss :  tensor(1.2384, device='cuda:0', grad_fn=<NllLossBackward0>)\n",
            "Accuracy of the on test images :  30.2\n",
            "Accuracy :  0.3996\n",
            "Loss :  tensor(1.0375, device='cuda:0', grad_fn=<NllLossBackward0>)\n",
            "Accuracy of the on test images :  29.1\n",
            "Accuracy :  0.427\n",
            "Loss :  tensor(0.8344, device='cuda:0', grad_fn=<NllLossBackward0>)\n",
            "Accuracy of the on test images :  28.6\n",
            "Accuracy :  0.4488\n",
            "Loss :  tensor(0.8296, device='cuda:0', grad_fn=<NllLossBackward0>)\n",
            "Accuracy of the on test images :  28.5\n",
            "Accuracy :  0.4684\n",
            "Loss :  tensor(0.8796, device='cuda:0', grad_fn=<NllLossBackward0>)\n",
            "Accuracy of the on test images :  27.9\n",
            "Accuracy :  0.4924\n",
            "Loss :  tensor(0.7873, device='cuda:0', grad_fn=<NllLossBackward0>)\n",
            "Accuracy of the on test images :  28.3\n",
            "Accuracy :  0.5324\n",
            "Loss :  tensor(0.6203, device='cuda:0', grad_fn=<NllLossBackward0>)\n",
            "Accuracy of the on test images :  26.3\n",
            "Accuracy :  0.5572\n",
            "Loss :  tensor(0.5846, device='cuda:0', grad_fn=<NllLossBackward0>)\n",
            "Accuracy of the on test images :  26.8\n",
            "Accuracy :  0.5762\n",
            "Loss :  tensor(0.3157, device='cuda:0', grad_fn=<NllLossBackward0>)\n",
            "Accuracy of the on test images :  24.9\n",
            "Accuracy :  0.6098\n",
            "Loss :  tensor(0.3155, device='cuda:0', grad_fn=<NllLossBackward0>)\n",
            "Accuracy of the on test images :  24.1\n",
            "Accuracy :  0.617\n",
            "Loss :  tensor(0.2553, device='cuda:0', grad_fn=<NllLossBackward0>)\n",
            "Accuracy of the on test images :  22.8\n",
            "Accuracy :  0.6486\n",
            "Loss :  tensor(0.1841, device='cuda:0', grad_fn=<NllLossBackward0>)\n",
            "Accuracy of the on test images :  23.4\n",
            "Accuracy :  0.6664\n",
            "Loss :  tensor(0.1232, device='cuda:0', grad_fn=<NllLossBackward0>)\n",
            "Accuracy of the on test images :  22.1\n",
            "Accuracy :  0.7062\n",
            "Loss :  tensor(0.1859, device='cuda:0', grad_fn=<NllLossBackward0>)\n",
            "Accuracy of the on test images :  22.8\n",
            "Accuracy :  0.7322\n",
            "Loss :  tensor(0.3030, device='cuda:0', grad_fn=<NllLossBackward0>)\n",
            "Accuracy of the on test images :  22.0\n",
            "Accuracy :  0.7446\n",
            "Loss :  tensor(0.0916, device='cuda:0', grad_fn=<NllLossBackward0>)\n",
            "Accuracy of the on test images :  21.5\n",
            "Accuracy :  0.7372\n",
            "Loss :  tensor(0.1490, device='cuda:0', grad_fn=<NllLossBackward0>)\n",
            "-------------------------------------\n",
            "Accuracy :  0.1394\n",
            "Loss :  tensor(2.1195, device='cuda:0', grad_fn=<NllLossBackward0>)\n",
            "Accuracy of the on test images :  14.4\n",
            "Accuracy :  0.1846\n",
            "Loss :  tensor(2.0686, device='cuda:0', grad_fn=<NllLossBackward0>)\n",
            "Accuracy of the on test images :  16.2\n",
            "Accuracy :  0.2076\n",
            "Loss :  tensor(2.0005, device='cuda:0', grad_fn=<NllLossBackward0>)\n",
            "Accuracy of the on test images :  15.9\n",
            "Accuracy :  0.2338\n",
            "Loss :  tensor(1.9496, device='cuda:0', grad_fn=<NllLossBackward0>)\n",
            "Accuracy of the on test images :  17.0\n",
            "Accuracy :  0.252\n",
            "Loss :  tensor(1.8194, device='cuda:0', grad_fn=<NllLossBackward0>)\n",
            "Accuracy of the on test images :  17.2\n",
            "Accuracy :  0.2624\n",
            "Loss :  tensor(1.6249, device='cuda:0', grad_fn=<NllLossBackward0>)\n",
            "Accuracy of the on test images :  18.0\n",
            "Accuracy :  0.2806\n",
            "Loss :  tensor(1.4917, device='cuda:0', grad_fn=<NllLossBackward0>)\n",
            "Accuracy of the on test images :  18.1\n",
            "Accuracy :  0.3022\n",
            "Loss :  tensor(1.4209, device='cuda:0', grad_fn=<NllLossBackward0>)\n",
            "Accuracy of the on test images :  17.0\n",
            "Accuracy :  0.322\n",
            "Loss :  tensor(1.2317, device='cuda:0', grad_fn=<NllLossBackward0>)\n",
            "Accuracy of the on test images :  17.9\n",
            "Accuracy :  0.3336\n",
            "Loss :  tensor(1.0763, device='cuda:0', grad_fn=<NllLossBackward0>)\n",
            "Accuracy of the on test images :  18.2\n",
            "Accuracy :  0.3608\n",
            "Loss :  tensor(0.8796, device='cuda:0', grad_fn=<NllLossBackward0>)\n",
            "Accuracy of the on test images :  18.3\n",
            "Accuracy :  0.3852\n",
            "Loss :  tensor(0.7868, device='cuda:0', grad_fn=<NllLossBackward0>)\n",
            "Accuracy of the on test images :  18.2\n",
            "Accuracy :  0.4046\n",
            "Loss :  tensor(0.7252, device='cuda:0', grad_fn=<NllLossBackward0>)\n",
            "Accuracy of the on test images :  18.3\n",
            "Accuracy :  0.4276\n",
            "Loss :  tensor(0.6291, device='cuda:0', grad_fn=<NllLossBackward0>)\n",
            "Accuracy of the on test images :  17.1\n",
            "Accuracy :  0.465\n",
            "Loss :  tensor(0.5067, device='cuda:0', grad_fn=<NllLossBackward0>)\n",
            "Accuracy of the on test images :  17.3\n",
            "Accuracy :  0.4804\n",
            "Loss :  tensor(0.2895, device='cuda:0', grad_fn=<NllLossBackward0>)\n",
            "Accuracy of the on test images :  17.4\n",
            "Accuracy :  0.5036\n",
            "Loss :  tensor(0.2931, device='cuda:0', grad_fn=<NllLossBackward0>)\n",
            "Accuracy of the on test images :  16.7\n",
            "Accuracy :  0.5196\n",
            "Loss :  tensor(0.3892, device='cuda:0', grad_fn=<NllLossBackward0>)\n",
            "Accuracy of the on test images :  16.6\n",
            "Accuracy :  0.5486\n",
            "Loss :  tensor(0.2954, device='cuda:0', grad_fn=<NllLossBackward0>)\n",
            "Accuracy of the on test images :  16.1\n",
            "Accuracy :  0.5906\n",
            "Loss :  tensor(0.2977, device='cuda:0', grad_fn=<NllLossBackward0>)\n",
            "Accuracy of the on test images :  17.1\n",
            "Accuracy :  0.6254\n",
            "Loss :  tensor(0.1765, device='cuda:0', grad_fn=<NllLossBackward0>)\n",
            "Accuracy of the on test images :  16.7\n",
            "Accuracy :  0.6382\n",
            "Loss :  tensor(0.1553, device='cuda:0', grad_fn=<NllLossBackward0>)\n",
            "Accuracy of the on test images :  17.4\n",
            "Accuracy :  0.6502\n",
            "Loss :  tensor(0.6541, device='cuda:0', grad_fn=<NllLossBackward0>)\n",
            "Accuracy of the on test images :  16.8\n",
            "Accuracy :  0.6648\n",
            "Loss :  tensor(0.1428, device='cuda:0', grad_fn=<NllLossBackward0>)\n",
            "Accuracy of the on test images :  16.1\n",
            "Accuracy :  0.697\n",
            "Loss :  tensor(0.1214, device='cuda:0', grad_fn=<NllLossBackward0>)\n",
            "Accuracy of the on test images :  15.8\n",
            "Accuracy :  0.7332\n",
            "Loss :  tensor(0.1171, device='cuda:0', grad_fn=<NllLossBackward0>)\n",
            "Accuracy of the on test images :  17.2\n",
            "Accuracy :  0.75\n",
            "Loss :  tensor(0.0851, device='cuda:0', grad_fn=<NllLossBackward0>)\n",
            "Accuracy of the on test images :  16.7\n",
            "Accuracy :  0.7406\n",
            "Loss :  tensor(0.2549, device='cuda:0', grad_fn=<NllLossBackward0>)\n",
            "-------------------------------------\n",
            "Accuracy :  0.1148\n",
            "Loss :  tensor(2.3108, device='cuda:0', grad_fn=<NllLossBackward0>)\n",
            "Accuracy of the on test images :  10.2\n",
            "Accuracy :  0.145\n",
            "Loss :  tensor(2.2866, device='cuda:0', grad_fn=<NllLossBackward0>)\n",
            "Accuracy of the on test images :  11.8\n",
            "Accuracy :  0.1596\n",
            "Loss :  tensor(2.2682, device='cuda:0', grad_fn=<NllLossBackward0>)\n",
            "Accuracy of the on test images :  12.2\n",
            "Accuracy :  0.1734\n",
            "Loss :  tensor(2.2487, device='cuda:0', grad_fn=<NllLossBackward0>)\n",
            "Accuracy of the on test images :  12.7\n",
            "Accuracy :  0.1856\n",
            "Loss :  tensor(2.2391, device='cuda:0', grad_fn=<NllLossBackward0>)\n",
            "Accuracy of the on test images :  13.3\n",
            "Accuracy :  0.2024\n",
            "Loss :  tensor(2.1888, device='cuda:0', grad_fn=<NllLossBackward0>)\n",
            "Accuracy of the on test images :  14.1\n",
            "Accuracy :  0.2148\n",
            "Loss :  tensor(2.1177, device='cuda:0', grad_fn=<NllLossBackward0>)\n",
            "Accuracy of the on test images :  14.2\n",
            "Accuracy :  0.2216\n",
            "Loss :  tensor(2.0660, device='cuda:0', grad_fn=<NllLossBackward0>)\n",
            "Accuracy of the on test images :  13.3\n",
            "Accuracy :  0.2288\n",
            "Loss :  tensor(1.9897, device='cuda:0', grad_fn=<NllLossBackward0>)\n",
            "Accuracy of the on test images :  13.4\n",
            "Accuracy :  0.2474\n",
            "Loss :  tensor(1.8837, device='cuda:0', grad_fn=<NllLossBackward0>)\n",
            "Accuracy of the on test images :  12.5\n",
            "Accuracy :  0.2606\n",
            "Loss :  tensor(1.8334, device='cuda:0', grad_fn=<NllLossBackward0>)\n",
            "Accuracy of the on test images :  13.6\n",
            "Accuracy :  0.2806\n",
            "Loss :  tensor(1.6614, device='cuda:0', grad_fn=<NllLossBackward0>)\n",
            "Accuracy of the on test images :  12.8\n",
            "Accuracy :  0.3032\n",
            "Loss :  tensor(1.6538, device='cuda:0', grad_fn=<NllLossBackward0>)\n",
            "Accuracy of the on test images :  12.1\n",
            "Accuracy :  0.3128\n",
            "Loss :  tensor(1.4808, device='cuda:0', grad_fn=<NllLossBackward0>)\n",
            "Accuracy of the on test images :  11.7\n",
            "Accuracy :  0.318\n",
            "Loss :  tensor(1.5214, device='cuda:0', grad_fn=<NllLossBackward0>)\n",
            "Accuracy of the on test images :  11.9\n",
            "Accuracy :  0.3396\n",
            "Loss :  tensor(1.3005, device='cuda:0', grad_fn=<NllLossBackward0>)\n",
            "Accuracy of the on test images :  13.1\n",
            "Accuracy :  0.369\n",
            "Loss :  tensor(1.2096, device='cuda:0', grad_fn=<NllLossBackward0>)\n",
            "Accuracy of the on test images :  13.1\n",
            "Accuracy :  0.4018\n",
            "Loss :  tensor(1.0841, device='cuda:0', grad_fn=<NllLossBackward0>)\n",
            "Accuracy of the on test images :  12.4\n",
            "Accuracy :  0.4414\n",
            "Loss :  tensor(0.9634, device='cuda:0', grad_fn=<NllLossBackward0>)\n",
            "Accuracy of the on test images :  12.1\n",
            "Accuracy :  0.4584\n",
            "Loss :  tensor(1.2141, device='cuda:0', grad_fn=<NllLossBackward0>)\n",
            "Accuracy of the on test images :  12.8\n",
            "Accuracy :  0.4794\n",
            "Loss :  tensor(0.8442, device='cuda:0', grad_fn=<NllLossBackward0>)\n",
            "Accuracy of the on test images :  12.5\n",
            "Accuracy :  0.5152\n",
            "Loss :  tensor(1.0123, device='cuda:0', grad_fn=<NllLossBackward0>)\n",
            "Accuracy of the on test images :  11.1\n",
            "Accuracy :  0.5278\n",
            "Loss :  tensor(0.8522, device='cuda:0', grad_fn=<NllLossBackward0>)\n",
            "Accuracy of the on test images :  11.9\n",
            "Accuracy :  0.5474\n",
            "Loss :  tensor(0.6875, device='cuda:0', grad_fn=<NllLossBackward0>)\n",
            "Accuracy of the on test images :  10.3\n",
            "Accuracy :  0.5872\n",
            "Loss :  tensor(0.6129, device='cuda:0', grad_fn=<NllLossBackward0>)\n",
            "Accuracy of the on test images :  10.9\n",
            "Accuracy :  0.5936\n",
            "Loss :  tensor(0.8155, device='cuda:0', grad_fn=<NllLossBackward0>)\n",
            "Accuracy of the on test images :  10.6\n",
            "Accuracy :  0.6264\n",
            "Loss :  tensor(0.3678, device='cuda:0', grad_fn=<NllLossBackward0>)\n",
            "Accuracy of the on test images :  10.7\n",
            "Accuracy :  0.6784\n",
            "Loss :  tensor(0.2620, device='cuda:0', grad_fn=<NllLossBackward0>)\n",
            "Accuracy of the on test images :  10.8\n",
            "Accuracy :  0.6884\n",
            "Loss :  tensor(0.2837, device='cuda:0', grad_fn=<NllLossBackward0>)\n",
            "Accuracy of the on test images :  10.6\n",
            "Accuracy :  0.715\n",
            "Loss :  tensor(0.3984, device='cuda:0', grad_fn=<NllLossBackward0>)\n",
            "Accuracy of the on test images :  10.7\n",
            "Accuracy :  0.7408\n",
            "Loss :  tensor(0.1525, device='cuda:0', grad_fn=<NllLossBackward0>)\n",
            "Accuracy of the on test images :  11.8\n",
            "Accuracy :  0.7594\n",
            "Loss :  tensor(0.0981, device='cuda:0', grad_fn=<NllLossBackward0>)\n",
            "Accuracy of the on test images :  11.1\n",
            "Accuracy :  0.7764\n",
            "Loss :  tensor(0.1691, device='cuda:0', grad_fn=<NllLossBackward0>)\n",
            "Accuracy of the on test images :  11.3\n",
            "Accuracy :  0.7912\n",
            "Loss :  tensor(0.2443, device='cuda:0', grad_fn=<NllLossBackward0>)\n",
            "Accuracy of the on test images :  13.0\n",
            "Accuracy :  0.7894\n",
            "Loss :  tensor(0.0910, device='cuda:0', grad_fn=<NllLossBackward0>)\n",
            "-------------------------------------\n",
            "Accuracy :  0.0934\n",
            "Loss :  tensor(2.2714, device='cuda:0', grad_fn=<NllLossBackward0>)\n",
            "Accuracy of the on test images :  11.0\n",
            "Accuracy :  0.1152\n",
            "Loss :  tensor(2.2564, device='cuda:0', grad_fn=<NllLossBackward0>)\n",
            "Accuracy of the on test images :  10.4\n",
            "Accuracy :  0.1286\n",
            "Loss :  tensor(2.2392, device='cuda:0', grad_fn=<NllLossBackward0>)\n",
            "Accuracy of the on test images :  10.5\n",
            "Accuracy :  0.1396\n",
            "Loss :  tensor(2.2254, device='cuda:0', grad_fn=<NllLossBackward0>)\n",
            "Accuracy of the on test images :  11.1\n",
            "Accuracy :  0.1468\n",
            "Loss :  tensor(2.1969, device='cuda:0', grad_fn=<NllLossBackward0>)\n",
            "Accuracy of the on test images :  11.4\n",
            "Accuracy :  0.1546\n",
            "Loss :  tensor(2.1521, device='cuda:0', grad_fn=<NllLossBackward0>)\n",
            "Accuracy of the on test images :  11.0\n",
            "Accuracy :  0.165\n",
            "Loss :  tensor(2.1234, device='cuda:0', grad_fn=<NllLossBackward0>)\n",
            "Accuracy of the on test images :  10.9\n",
            "Accuracy :  0.1668\n",
            "Loss :  tensor(2.0622, device='cuda:0', grad_fn=<NllLossBackward0>)\n",
            "Accuracy of the on test images :  11.3\n",
            "Accuracy :  0.1758\n",
            "Loss :  tensor(2.0198, device='cuda:0', grad_fn=<NllLossBackward0>)\n",
            "Accuracy of the on test images :  10.7\n",
            "Accuracy :  0.1852\n",
            "Loss :  tensor(1.9621, device='cuda:0', grad_fn=<NllLossBackward0>)\n",
            "Accuracy of the on test images :  10.7\n",
            "Accuracy :  0.1972\n",
            "Loss :  tensor(1.8879, device='cuda:0', grad_fn=<NllLossBackward0>)\n",
            "Accuracy of the on test images :  10.5\n",
            "Accuracy :  0.2062\n",
            "Loss :  tensor(1.8880, device='cuda:0', grad_fn=<NllLossBackward0>)\n",
            "Accuracy of the on test images :  11.4\n",
            "Accuracy :  0.2104\n",
            "Loss :  tensor(1.8557, device='cuda:0', grad_fn=<NllLossBackward0>)\n",
            "Accuracy of the on test images :  10.8\n",
            "Accuracy :  0.2254\n",
            "Loss :  tensor(1.8198, device='cuda:0', grad_fn=<NllLossBackward0>)\n",
            "Accuracy of the on test images :  9.5\n",
            "Accuracy :  0.2388\n",
            "Loss :  tensor(1.7931, device='cuda:0', grad_fn=<NllLossBackward0>)\n",
            "Accuracy of the on test images :  10.9\n",
            "Accuracy :  0.2428\n",
            "Loss :  tensor(1.7396, device='cuda:0', grad_fn=<NllLossBackward0>)\n",
            "Accuracy of the on test images :  10.9\n",
            "Accuracy :  0.2494\n",
            "Loss :  tensor(1.7506, device='cuda:0', grad_fn=<NllLossBackward0>)\n",
            "Accuracy of the on test images :  10.0\n",
            "Accuracy :  0.2702\n",
            "Loss :  tensor(1.7719, device='cuda:0', grad_fn=<NllLossBackward0>)\n",
            "Accuracy of the on test images :  10.2\n",
            "Accuracy :  0.2842\n",
            "Loss :  tensor(1.6034, device='cuda:0', grad_fn=<NllLossBackward0>)\n",
            "Accuracy of the on test images :  9.1\n",
            "Accuracy :  0.3026\n",
            "Loss :  tensor(1.5309, device='cuda:0', grad_fn=<NllLossBackward0>)\n",
            "Accuracy of the on test images :  9.6\n",
            "Accuracy :  0.3024\n",
            "Loss :  tensor(1.5797, device='cuda:0', grad_fn=<NllLossBackward0>)\n"
          ]
        }
      ]
    },
    {
      "cell_type": "code",
      "source": [
        "print(alex_overfitcounts)"
      ],
      "metadata": {
        "colab": {
          "base_uri": "https://localhost:8080/"
        },
        "id": "ikvkx7YfRfOO",
        "outputId": "1862fa92-8167-4583-cdfa-bbc28e14d545"
      },
      "execution_count": 85,
      "outputs": [
        {
          "output_type": "stream",
          "name": "stdout",
          "text": [
            "[14, 15, 23, 28, 35, 21]\n"
          ]
        }
      ]
    },
    {
      "cell_type": "code",
      "source": [
        "print(alex_testaccuracies)"
      ],
      "metadata": {
        "colab": {
          "base_uri": "https://localhost:8080/"
        },
        "id": "eZERxL-PRmT_",
        "outputId": "177c5a0c-336d-4d7a-8dfd-435ecc5b058e"
      },
      "execution_count": 86,
      "outputs": [
        {
          "output_type": "stream",
          "name": "stdout",
          "text": [
            "[41.8, 34.3, 21.9, 16.5, 11.2, 8.2]\n"
          ]
        }
      ]
    },
    {
      "cell_type": "code",
      "source": [
        "p = [1,2,3,4,5,6]\n",
        "plt.plot(p,alex_overfitcounts)\n"
      ],
      "metadata": {
        "colab": {
          "base_uri": "https://localhost:8080/",
          "height": 282
        },
        "id": "BbGc0DQ_U48c",
        "outputId": "12d3b391-afa0-42dc-9629-896768fa3f98"
      },
      "execution_count": 87,
      "outputs": [
        {
          "output_type": "execute_result",
          "data": {
            "text/plain": [
              "[<matplotlib.lines.Line2D at 0x7f9a6c175400>]"
            ]
          },
          "metadata": {},
          "execution_count": 87
        },
        {
          "output_type": "display_data",
          "data": {
            "text/plain": [
              "<Figure size 432x288 with 1 Axes>"
            ],
            "image/png": "[encoded data removed]"
          },
          "metadata": {
            "needs_background": "light"
          }
        }
      ]
    },
    {
      "cell_type": "code",
      "source": [
        "plt.plot(p,alex_testaccuracies)"
      ],
      "metadata": {
        "colab": {
          "base_uri": "https://localhost:8080/",
          "height": 282
        },
        "id": "z2vNzqj7VOcm",
        "outputId": "804fccc9-43a3-46a4-cd39-e800831fca5d"
      },
      "execution_count": 88,
      "outputs": [
        {
          "output_type": "execute_result",
          "data": {
            "text/plain": [
              "[<matplotlib.lines.Line2D at 0x7f9a16a10ee0>]"
            ]
          },
          "metadata": {},
          "execution_count": 88
        },
        {
          "output_type": "display_data",
          "data": {
            "text/plain": [
              "<Figure size 432x288 with 1 Axes>"
            ],
            "image/png": "[encoded data removed]"
          },
          "metadata": {
            "needs_background": "light"
          }
        }
      ]
    }
  ]
}