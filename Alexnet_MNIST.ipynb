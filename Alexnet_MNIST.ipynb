{
 "cells": [
  {
   "cell_type": "code",
   "execution_count": null,
   "metadata": {},
   "outputs": [],
   "source": [
    "import torch\n",
    "import numpy as np\n",
    "import pandas as pd\n",
    "import torch.nn as nn\n",
    "import torch.optim as optim\n",
    "import os\n",
    "import matplotlib.pyplot as plt\n",
    "import torch.nn.functional as F\n",
    "%matplotlib inline\n",
    "import random\n",
    "\n",
    "import torchvision\n",
    "import torchvision.transforms as transforms"
   ]
  },
  {
   "cell_type": "code",
   "execution_count": null,
   "metadata": {},
   "outputs": [],
   "source": [
    "device = torch.device('cuda' if torch.cuda.is_available() else 'cpu')\n",
    "print('Device available now:', device)"
   ]
  },
  {
   "cell_type": "code",
   "execution_count": null,
   "metadata": {},
   "outputs": [],
   "source": [
    "image_transforms = transforms.Compose(\n",
    "         [transforms.ToTensor(),\n",
    "         transforms.CenterCrop(28),\n",
    "         transforms.Normalize((0.5), (0.5))]\n",
    ")\n"
   ]
  },
  {
   "cell_type": "code",
   "execution_count": null,
   "metadata": {},
   "outputs": [],
   "source": [
    "batchsize = 256\n",
    "rowsize = 28\n",
    "colsize = 28\n",
    "inchannels = 1\n",
    "kernelsize = 5\n",
    "stride = 1\n",
    "padding = 0\n",
    "poolsize = 3\n",
    "fc_size1 = 384\n",
    "fc_size2 = 192\n",
    "no_classes = 10\n",
    "epochs = 100\n"
   ]
  },
  {
   "cell_type": "code",
   "execution_count": null,
   "metadata": {},
   "outputs": [],
   "source": [
    "train = torchvision.datasets.MNIST(root='./', train=True, download=True, transform=image_transforms)\n",
    "test = torchvision.datasets.MNIST(root='./', train=False, transform=image_transforms)\n"
   ]
  },
  {
   "cell_type": "code",
   "execution_count": null,
   "metadata": {},
   "outputs": [],
   "source": [
    "traindata = torch.utils.data.DataLoader(train,batch_size=batchsize, shuffle=True, num_workers=2,pin_memory=True)\n",
    "testdata = torch.utils.data.DataLoader(test,batch_size=batchsize, shuffle=True, num_workers=2,pin_memory=True)"
   ]
  },
  {
   "cell_type": "code",
   "execution_count": null,
   "metadata": {},
   "outputs": [],
   "source": [
    "class SimpleAlex(nn.Module):\n",
    "    def __init__(self,inchannels,kernelsize,stride,padding,poolsize,fc_size1,fc_size2,no_classes):\n",
    "      super(SimpleAlex, self).__init__()\n",
    "      self.conv1 = nn.Conv2d(inchannels,24,kernelsize,stride,padding)\n",
    "      self.pool1 = nn.MaxPool2d(poolsize,2)\n",
    "      self.BatchNorm1 = nn.BatchNorm2d(24)\n",
    "      self.conv2 = nn.Conv2d(24,48,kernelsize,stride,padding)\n",
    "      self.pool2 = nn.MaxPool2d(poolsize,2)\n",
    "      self.BatchNorm2 = nn.BatchNorm2d(48)\n",
    "      self.fc1 = nn.Linear(432,fc_size1)\n",
    "      self.fc2 = nn.Linear(fc_size1,fc_size2)\n",
    "      self.fc3 = nn.Linear(fc_size2,no_classes) \n",
    "\n",
    "    def forward(self, x):\n",
    "      x = F.relu(self.conv1(x))\n",
    "      x = self.pool1(x)\n",
    "      x = self.BatchNorm1(x)\n",
    "      x = F.relu(self.conv2(x))\n",
    "      x = self.pool2(x)\n",
    "      x = self.BatchNorm2(x)\n",
    "      x = torch.flatten(x,1)\n",
    "      x = F.relu(self.fc1(x))\n",
    "      x = F.relu(self.fc2(x))\n",
    "      x = F.relu(self.fc3(x))\n",
    "      return x"
   ]
  },
  {
   "cell_type": "code",
   "execution_count": null,
   "metadata": {},
   "outputs": [],
   "source": [
    "model = SimpleAlex(inchannels,kernelsize,stride,padding,poolsize,fc_size1,fc_size2,no_classes).to(device)\n",
    "# model = SimpleAlex(no_classes).to(device)"
   ]
  },
  {
   "cell_type": "code",
   "execution_count": null,
   "metadata": {},
   "outputs": [],
   "source": [
    "optimizer = torch.optim.SGD(model.parameters(),lr=0.01)\n",
    "criterion = nn.CrossEntropyLoss().to(device)"
   ]
  },
  {
   "cell_type": "code",
   "execution_count": null,
   "metadata": {},
   "outputs": [],
   "source": [
    "# def training(model,traindata,testdata):\n",
    "def train_test(epochs):\n",
    " list_acc = 0\n",
    " for i in range(epochs):\n",
    "  Loss = 0\n",
    "  num_correct=0\n",
    "  tot = 0\n",
    "  model.train()\n",
    "  for i,data in enumerate(traindata):\n",
    "    x_data = data[0].to(device)\n",
    "    labels = data[1].to(device)\n",
    "    optimizer.zero_grad()\n",
    "    outputs = model(x_data.cuda())\n",
    "    _, pred = torch.max(outputs.data, 1)\n",
    "    num_correct += (pred == labels).sum().item()\n",
    "    tot += labels.size(0)\n",
    "    loss = criterion(outputs, labels)\n",
    "    loss.backward()\n",
    "    optimizer.step()\n",
    "    Loss += loss\n",
    "    \n",
    "  list_acc += num_correct/tot\n",
    " \n",
    "\n",
    " num_correct = 0\n",
    " tot = 0\n",
    " model.eval()\n",
    " for i,data in enumerate(testdata):\n",
    "    x_data = data[0].to(device)\n",
    "    labels = data[1].to(device)\n",
    "    \n",
    "    outputs = model(x_data)\n",
    "   \n",
    "    _, pred = torch.max(outputs.data, 1)\n",
    "    num_correct += (pred == labels).sum().item()\n",
    "    tot += labels.size(0)\n",
    " return (num_correct)/tot , list_acc/epochs\n",
    "\n",
    "    "
   ]
  },
  {
   "cell_type": "code",
   "execution_count": null,
   "metadata": {},
   "outputs": [],
   "source": [
    "list_x = [i+1 for i in range(30)]\n",
    "list_test = []\n",
    "list_train = []\n",
    "for i in list_x:\n",
    "  \n",
    "  a,b = train_test(i)\n",
    "  print(a,b)\n",
    "  list_test.append(a)\n",
    "  list_train.append(b)"
   ]
  }
 ],
 "metadata": {
  "kernelspec": {
   "display_name": "Python 3.8.10 64-bit",
   "language": "python",
   "name": "python3"
  },
  "language_info": {
   "codemirror_mode": {
    "name": "ipython",
    "version": 3
   },
   "file_extension": ".py",
   "mimetype": "text/x-python",
   "name": "python",
   "nbconvert_exporter": "python",
   "pygments_lexer": "ipython3",
   "version": "3.8.10"
  },
  "orig_nbformat": 4,
  "vscode": {
   "interpreter": {
    "hash": "916dbcbb3f70747c44a77c7bcd40155683ae19c65e1c03b4aa3499c5328201f1"
   }
  }
 },
 "nbformat": 4,
 "nbformat_minor": 2
}
